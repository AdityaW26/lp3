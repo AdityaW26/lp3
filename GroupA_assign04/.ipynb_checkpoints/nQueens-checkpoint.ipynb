{
 "cells": [
  {
   "cell_type": "markdown",
   "id": "02e7cc17",
   "metadata": {},
   "source": [
    "# N Queen Problem using backtracking"
   ]
  },
  {
   "cell_type": "code",
   "execution_count": 5,
   "id": "5f29d04e",
   "metadata": {},
   "outputs": [],
   "source": [
    "global N\n",
    "N = 4\n",
    "  \n",
    "def printSolution(board): \n",
    "    for i in range(N):\n",
    "        for j in range(N):\n",
    "            print(board[i][j], end = \" \")\n",
    "        print() "
   ]
  },
  {
   "cell_type": "code",
   "execution_count": 6,
   "id": "249bd995",
   "metadata": {},
   "outputs": [],
   "source": [
    "def isSafe(board, row, col):\n",
    "  \n",
    "    # Check this row on left side\n",
    "    for i in range(col):\n",
    "        if board[row][i] == 1:\n",
    "            return False\n",
    "  \n",
    "    # Check upper diagonal on left side\n",
    "    for i, j in zip(range(row, -1, -1), \n",
    "                    range(col, -1, -1)):\n",
    "        if board[i][j] == 1:\n",
    "            return False\n",
    "  \n",
    "    # Check lower diagonal on left side\n",
    "    for i, j in zip(range(row, N, 1), \n",
    "                    range(col, -1, -1)):\n",
    "        if board[i][j] == 1:\n",
    "            return False\n",
    "  \n",
    "    return True"
   ]
  },
  {
   "cell_type": "code",
   "execution_count": 7,
   "id": "6cc75866",
   "metadata": {},
   "outputs": [],
   "source": [
    "def solveNQUtil(board, col):\n",
    "    \n",
    "    if col >= N:\n",
    "        return True\n",
    "  \n",
    "    for i in range(N):\n",
    "  \n",
    "        if isSafe(board, i, col):\n",
    "              \n",
    "            board[i][col] = 1\n",
    "            \n",
    "            if solveNQUtil(board, col + 1) == True:\n",
    "                return True\n",
    "  \n",
    "            board[i][col] = 0\n",
    "  \n",
    "    return False\n"
   ]
  },
  {
   "cell_type": "code",
   "execution_count": 9,
   "id": "4eef7553",
   "metadata": {},
   "outputs": [
    {
     "name": "stdout",
     "output_type": "stream",
     "text": [
      "0 0 1 0 \n",
      "1 0 0 0 \n",
      "0 0 0 1 \n",
      "0 1 0 0 \n"
     ]
    },
    {
     "data": {
      "text/plain": [
       "True"
      ]
     },
     "execution_count": 9,
     "metadata": {},
     "output_type": "execute_result"
    }
   ],
   "source": [
    "def solveNQ():\n",
    "    board = [ [0, 0, 0, 0],\n",
    "              [0, 0, 0, 0],\n",
    "              [0, 0, 0, 0],\n",
    "              [0, 0, 0, 0] ]\n",
    "  \n",
    "    if solveNQUtil(board, 0) == False:\n",
    "        print (\"Solution doesn't exist\")\n",
    "        return False\n",
    "  \n",
    "    printSolution(board)\n",
    "    return True\n",
    "  \n",
    "# Driver Code\n",
    "solveNQ()"
   ]
  },
  {
   "cell_type": "code",
   "execution_count": null,
   "id": "ed75a838",
   "metadata": {},
   "outputs": [],
   "source": []
  }
 ],
 "metadata": {
  "kernelspec": {
   "display_name": "Python 3",
   "language": "python",
   "name": "python3"
  },
  "language_info": {
   "codemirror_mode": {
    "name": "ipython",
    "version": 3
   },
   "file_extension": ".py",
   "mimetype": "text/x-python",
   "name": "python",
   "nbconvert_exporter": "python",
   "pygments_lexer": "ipython3",
   "version": "3.6.13"
  }
 },
 "nbformat": 4,
 "nbformat_minor": 5
}
