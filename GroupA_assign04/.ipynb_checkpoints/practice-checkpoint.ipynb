{
 "cells": [
  {
   "cell_type": "code",
   "execution_count": 1,
   "id": "c3412316",
   "metadata": {},
   "outputs": [],
   "source": [
    "global N\n",
    "N = 4"
   ]
  },
  {
   "cell_type": "code",
   "execution_count": 2,
   "id": "9163a8d4",
   "metadata": {},
   "outputs": [],
   "source": [
    "def printSolution(board):\n",
    "    for i in range(N):\n",
    "        for j in range(N):\n",
    "            print(board[i][j],end=\" \")\n",
    "        print()"
   ]
  },
  {
   "cell_type": "code",
   "execution_count": 3,
   "id": "a05f7d45",
   "metadata": {},
   "outputs": [],
   "source": [
    "def isSafe(board, row, col):\n",
    "    \n",
    "    # left side row\n",
    "    for i in range(col):\n",
    "        if board[row][i]==1:\n",
    "            return False\n",
    "        \n",
    "    # upper left diagonal\n",
    "    for i,j in zip(range(row,-1,-1),range(col,-1,-1)):\n",
    "        if board[i][j]==1:\n",
    "            return False\n",
    "        \n",
    "    # lower left diagonal\n",
    "    for i,j in zip(range(row,N,1),range(col,-1,-1)):\n",
    "        if board[i][j]==1:\n",
    "            return False\n",
    "    \n",
    "    return True"
   ]
  },
  {
   "cell_type": "code",
   "execution_count": 4,
   "id": "de5fb86a",
   "metadata": {},
   "outputs": [],
   "source": [
    "def solveNQUtil(board,col):\n",
    "    \n",
    "    if col>=N:\n",
    "        return True\n",
    "    \n",
    "    for i in range(N):\n",
    "        if isSafe(board,i,col):\n",
    "            board[i][col]=1\n",
    "            if solveNQUtil(board,col+1)==True :\n",
    "                return True\n",
    "            \n",
    "            board[i][col]=0\n",
    "    \n",
    "    return False"
   ]
  },
  {
   "cell_type": "code",
   "execution_count": 6,
   "id": "eb9600e6",
   "metadata": {},
   "outputs": [],
   "source": [
    "def solveNQ():\n",
    "    board = [[0]*N for i in range(N)]\n",
    "    if solveNQUtil(board,0)==False:\n",
    "        print(\"Soln doesn't exist\")\n",
    "        return 1\n",
    "    \n",
    "    printSolution(board)\n",
    "    return 0"
   ]
  },
  {
   "cell_type": "code",
   "execution_count": null,
   "id": "fe5847f7",
   "metadata": {},
   "outputs": [],
   "source": []
  }
 ],
 "metadata": {
  "kernelspec": {
   "display_name": "Python 3",
   "language": "python",
   "name": "python3"
  },
  "language_info": {
   "codemirror_mode": {
    "name": "ipython",
    "version": 3
   },
   "file_extension": ".py",
   "mimetype": "text/x-python",
   "name": "python",
   "nbconvert_exporter": "python",
   "pygments_lexer": "ipython3",
   "version": "3.6.13"
  }
 },
 "nbformat": 4,
 "nbformat_minor": 5
}
