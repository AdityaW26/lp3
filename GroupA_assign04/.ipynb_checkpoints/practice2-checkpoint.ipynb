{
 "cells": [
  {
   "cell_type": "code",
   "execution_count": 1,
   "id": "1d8d9645",
   "metadata": {},
   "outputs": [],
   "source": [
    "global N\n",
    "N=4"
   ]
  },
  {
   "cell_type": "code",
   "execution_count": 2,
   "id": "5e2e2c8f",
   "metadata": {},
   "outputs": [],
   "source": [
    "def printSolution(board):\n",
    "    for i in range(N):\n",
    "        for j in range(N):\n",
    "            print(board[i][j],end=\" \")\n",
    "        print()"
   ]
  },
  {
   "cell_type": "code",
   "execution_count": 12,
   "id": "d486c648",
   "metadata": {},
   "outputs": [],
   "source": [
    "def isSafe(board,row,col):\n",
    "    \n",
    "    for i in range(col):\n",
    "        if board[row][i]==1:\n",
    "            return False\n",
    "    \n",
    "    for i,j in zip(range(row,-1,-1),range(col,-1,-1)):\n",
    "        if board[i][j]==1:\n",
    "            return False\n",
    "        \n",
    "    for i,j in zip(range(row,N,1),range(col,-1,-1)):\n",
    "        if board[i][j]==1:\n",
    "            return False\n",
    "        \n",
    "    return True"
   ]
  },
  {
   "cell_type": "code",
   "execution_count": 13,
   "id": "8c3d3cbf",
   "metadata": {},
   "outputs": [],
   "source": [
    "def solveNQUtil(board,col):\n",
    "    if col>=N:\n",
    "        return True\n",
    "    \n",
    "    for i in range(N):\n",
    "        if isSafe(board,i,col):\n",
    "            board[i][col]=1\n",
    "            if solveNQUtil(board,col+1)==True:\n",
    "                return True\n",
    "            board[i][col]=0\n",
    "    \n",
    "    return False"
   ]
  },
  {
   "cell_type": "code",
   "execution_count": 16,
   "id": "3f98ae0d",
   "metadata": {},
   "outputs": [],
   "source": [
    "def solveNQ():\n",
    "    board = [[0]*N for _ in range(N)]\n",
    "    printSolution(board)\n",
    "    print()\n",
    "    if solveNQUtil(board,0)==False:\n",
    "        print(\"No solution\")\n",
    "        return -1\n",
    "\n",
    "    printSolution(board)\n",
    "    return 0"
   ]
  },
  {
   "cell_type": "code",
   "execution_count": 17,
   "id": "ac51af7d",
   "metadata": {},
   "outputs": [
    {
     "name": "stdout",
     "output_type": "stream",
     "text": [
      "0 0 0 0 \n",
      "0 0 0 0 \n",
      "0 0 0 0 \n",
      "0 0 0 0 \n",
      "\n",
      "0 0 1 0 \n",
      "1 0 0 0 \n",
      "0 0 0 1 \n",
      "0 1 0 0 \n"
     ]
    },
    {
     "data": {
      "text/plain": [
       "0"
      ]
     },
     "execution_count": 17,
     "metadata": {},
     "output_type": "execute_result"
    }
   ],
   "source": [
    "solveNQ()"
   ]
  },
  {
   "cell_type": "code",
   "execution_count": null,
   "id": "bc53cfe2",
   "metadata": {},
   "outputs": [],
   "source": []
  }
 ],
 "metadata": {
  "kernelspec": {
   "display_name": "Python 3",
   "language": "python",
   "name": "python3"
  },
  "language_info": {
   "codemirror_mode": {
    "name": "ipython",
    "version": 3
   },
   "file_extension": ".py",
   "mimetype": "text/x-python",
   "name": "python",
   "nbconvert_exporter": "python",
   "pygments_lexer": "ipython3",
   "version": "3.6.13"
  }
 },
 "nbformat": 4,
 "nbformat_minor": 5
}
