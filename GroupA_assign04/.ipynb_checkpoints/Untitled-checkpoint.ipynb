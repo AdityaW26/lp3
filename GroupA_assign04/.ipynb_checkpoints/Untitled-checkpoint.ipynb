{
 "cells": [
  {
   "cell_type": "code",
   "execution_count": 18,
   "id": "6fd33529",
   "metadata": {},
   "outputs": [],
   "source": [
    "global N\n",
    "N=4"
   ]
  },
  {
   "cell_type": "code",
   "execution_count": 19,
   "id": "bceecea6",
   "metadata": {},
   "outputs": [],
   "source": [
    "def printSolution(board):\n",
    "    for i in range(N):\n",
    "        for j in range(N):\n",
    "            print(board[i][j],end=\" \")\n",
    "        print()\n",
    "    print()"
   ]
  },
  {
   "cell_type": "code",
   "execution_count": 24,
   "id": "6ff2c6f7",
   "metadata": {},
   "outputs": [],
   "source": [
    "def isSafe(board,row,col):\n",
    "    \n",
    "    for i in range(col):\n",
    "        if board[row][i]==1:\n",
    "            return False\n",
    "        \n",
    "    for i,j in zip(range(row,-1,-1),range(col,-1,-1)):\n",
    "        if board[i][j]==1:\n",
    "            return False\n",
    "        \n",
    "    for i,j in zip(range(row,N,1),range(col,-1,-1)):\n",
    "        if board[i][j]==1:\n",
    "            return False\n",
    "    \n",
    "    return True"
   ]
  },
  {
   "cell_type": "code",
   "execution_count": 25,
   "id": "a52f0547",
   "metadata": {},
   "outputs": [],
   "source": [
    "def solveNQUtil(board,col):\n",
    "    if col>=N:\n",
    "        return True\n",
    "    \n",
    "    for i in range(N):\n",
    "        if isSafe(board,i,col):\n",
    "            board[i][col]=1\n",
    "            if solveNQUtil(board,col+1)==True:\n",
    "                return True\n",
    "            board[i][col]=0\n",
    "            \n",
    "    return False"
   ]
  },
  {
   "cell_type": "code",
   "execution_count": 26,
   "id": "791dc776",
   "metadata": {},
   "outputs": [],
   "source": [
    "def solveNQ():\n",
    "    board = [ [0]*N for _ in range(N)]\n",
    "    printSolution(board)\n",
    "    if solveNQUtil(board,0)==False:\n",
    "        print(\"Soln doesn't exist\")\n",
    "        return -1\n",
    "    \n",
    "    printSolution(board)\n",
    "    return 0"
   ]
  },
  {
   "cell_type": "code",
   "execution_count": 27,
   "id": "779e2119",
   "metadata": {},
   "outputs": [
    {
     "name": "stdout",
     "output_type": "stream",
     "text": [
      "0 0 0 0 \n",
      "0 0 0 0 \n",
      "0 0 0 0 \n",
      "0 0 0 0 \n",
      "\n",
      "0 0 1 0 \n",
      "1 0 0 0 \n",
      "0 0 0 1 \n",
      "0 1 0 0 \n",
      "\n"
     ]
    },
    {
     "data": {
      "text/plain": [
       "0"
      ]
     },
     "execution_count": 27,
     "metadata": {},
     "output_type": "execute_result"
    }
   ],
   "source": [
    "solveNQ()"
   ]
  },
  {
   "cell_type": "code",
   "execution_count": null,
   "id": "57e13069",
   "metadata": {},
   "outputs": [],
   "source": []
  }
 ],
 "metadata": {
  "kernelspec": {
   "display_name": "Python 3",
   "language": "python",
   "name": "python3"
  },
  "language_info": {
   "codemirror_mode": {
    "name": "ipython",
    "version": 3
   },
   "file_extension": ".py",
   "mimetype": "text/x-python",
   "name": "python",
   "nbconvert_exporter": "python",
   "pygments_lexer": "ipython3",
   "version": "3.6.13"
  }
 },
 "nbformat": 4,
 "nbformat_minor": 5
}
