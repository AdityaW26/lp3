{
 "cells": [
  {
   "cell_type": "markdown",
   "id": "2ec8e271",
   "metadata": {},
   "source": [
    "# Imports"
   ]
  },
  {
   "cell_type": "code",
   "execution_count": 1,
   "id": "1ba5c6cd",
   "metadata": {},
   "outputs": [],
   "source": [
    "import heapq"
   ]
  },
  {
   "cell_type": "markdown",
   "id": "65166455",
   "metadata": {},
   "source": [
    "# Class"
   ]
  },
  {
   "cell_type": "code",
   "execution_count": 2,
   "id": "976791b9",
   "metadata": {},
   "outputs": [],
   "source": [
    "class node:\n",
    "    def __init__(self,freq,symbol, left=None, right=None):\n",
    "        self.freq = freq # frequency of char\n",
    "        self.symbol = symbol # char\n",
    "        self.left = left \n",
    "        self.right = right\n",
    "        self.huff = '' # tree direction\n",
    "    \n",
    "    def __lt__(self, nxt):\n",
    "        return self.freq < nxt.freq"
   ]
  },
  {
   "cell_type": "markdown",
   "id": "ec8a25d2",
   "metadata": {},
   "source": [
    "## Function"
   ]
  },
  {
   "cell_type": "code",
   "execution_count": 8,
   "id": "9e2ff0e1",
   "metadata": {},
   "outputs": [],
   "source": [
    "def printNodes(node, val=\"\"):\n",
    "    newVal = val + str(node.huff)\n",
    "    \n",
    "    # if node is not an edge node\n",
    "    # then traverse inside it\n",
    "    if(node.left):\n",
    "        printNodes(node.left, newVal)\n",
    "    if(node.right):\n",
    "        printNodes(node.right, newVal)\n",
    " \n",
    "    # if node is edge node then\n",
    "    # display its huffman code\n",
    "    if(not node.left and not node.right):\n",
    "        print(\"{0} -> {1}\".format(node.symbol,newVal))"
   ]
  },
  {
   "cell_type": "markdown",
   "id": "e09cc63a",
   "metadata": {},
   "source": [
    "## Driver code"
   ]
  },
  {
   "cell_type": "code",
   "execution_count": 9,
   "id": "03954738",
   "metadata": {},
   "outputs": [
    {
     "name": "stdout",
     "output_type": "stream",
     "text": [
      "f -> 0\n",
      "c -> 100\n",
      "d -> 101\n",
      "a -> 1100\n",
      "b -> 1101\n",
      "e -> 111\n"
     ]
    }
   ],
   "source": [
    "# characters for huffman tree\n",
    "chars = ['a', 'b', 'c', 'd', 'e', 'f']\n",
    " \n",
    "# frequency of characters\n",
    "freq = [ 5, 9, 12, 13, 16, 45]\n",
    " \n",
    "# list containing unused nodes\n",
    "nodes = []\n",
    " \n",
    "# converting characters and frequencies into huffman tree nodes\n",
    "for x in range(len(chars)):\n",
    "    heapq.heappush(nodes, node(freq[x], chars[x]))\n",
    " \n",
    "while len(nodes) > 1:\n",
    "     \n",
    "    # sort all the nodes in ascending order based on their frequency\n",
    "    left = heapq.heappop(nodes)\n",
    "    right = heapq.heappop(nodes)\n",
    " \n",
    "    # assign directional value to these nodes\n",
    "    left.huff = 0\n",
    "    right.huff = 1\n",
    " \n",
    "    # combine the 2 smallest nodes to create\n",
    "    # new node as their parent\n",
    "    newNode = node(left.freq+right.freq, left.symbol+right.symbol, left, right)\n",
    " \n",
    "    heapq.heappush(nodes, newNode)\n",
    "    \n",
    "printNodes(nodes[0])"
   ]
  },
  {
   "cell_type": "code",
   "execution_count": null,
   "id": "df617d13",
   "metadata": {},
   "outputs": [],
   "source": []
  }
 ],
 "metadata": {
  "kernelspec": {
   "display_name": "Python 3",
   "language": "python",
   "name": "python3"
  },
  "language_info": {
   "codemirror_mode": {
    "name": "ipython",
    "version": 3
   },
   "file_extension": ".py",
   "mimetype": "text/x-python",
   "name": "python",
   "nbconvert_exporter": "python",
   "pygments_lexer": "ipython3",
   "version": "3.6.13"
  }
 },
 "nbformat": 4,
 "nbformat_minor": 5
}
