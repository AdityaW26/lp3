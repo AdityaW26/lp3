{
 "cells": [
  {
   "cell_type": "code",
   "execution_count": 1,
   "id": "7dc3fd0f",
   "metadata": {},
   "outputs": [],
   "source": [
    "import heapq"
   ]
  },
  {
   "cell_type": "code",
   "execution_count": 2,
   "id": "a8d5c3c6",
   "metadata": {},
   "outputs": [],
   "source": [
    "class Node:\n",
    "    def __init__(self,freq,symbol,left=None,right=None):\n",
    "        self.freq = freq\n",
    "        self.symbol = symbol\n",
    "        self.left = left\n",
    "        self.right = right\n",
    "        self.huff = ''\n",
    "        \n",
    "    def __lt__(self,nxt):\n",
    "        return self.freq<nxt.freq"
   ]
  },
  {
   "cell_type": "code",
   "execution_count": 3,
   "id": "7a19424d",
   "metadata": {},
   "outputs": [],
   "source": [
    "def printNodes(node,val=''):\n",
    "    newval = val + str(node.huff)\n",
    "    \n",
    "    if node.left: \n",
    "        printNodes(node.left,newval)\n",
    "    if node.right:\n",
    "        printNodes(node.right,newval)\n",
    "    \n",
    "    if (not node.left and not node.right):\n",
    "        print(\"{0} -> {1}\".format(node.symbol,newval))"
   ]
  },
  {
   "cell_type": "code",
   "execution_count": 4,
   "id": "f2059ffc",
   "metadata": {},
   "outputs": [],
   "source": [
    "chars = ['a','b','c','d','e','f']\n",
    "vals = [5,9,12,13,16,45]\n",
    "nodes = []\n",
    "\n",
    "for x in range(len(chars)):\n",
    "    heapq.heappush(nodes,Node(vals[x],chars[x]))\n",
    "    \n",
    "while (len(nodes)>1):\n",
    "    left = heapq.heappop(nodes)\n",
    "    right = heapq.heappop(nodes)\n",
    "    \n",
    "    left.huff = 0\n",
    "    right.huff = 1\n",
    "    \n",
    "    newNode = Node(left.freq+right.freq, left.symbol+right.symbol,left,right)\n",
    "    heapq.heappush(nodes,newNode)\n",
    "    "
   ]
  },
  {
   "cell_type": "code",
   "execution_count": 5,
   "id": "85f56134",
   "metadata": {},
   "outputs": [
    {
     "name": "stdout",
     "output_type": "stream",
     "text": [
      "f -> 0\n",
      "c -> 100\n",
      "d -> 101\n",
      "a -> 1100\n",
      "b -> 1101\n",
      "e -> 111\n"
     ]
    }
   ],
   "source": [
    "printNodes(nodes[0])"
   ]
  },
  {
   "cell_type": "code",
   "execution_count": null,
   "id": "340aaaa0",
   "metadata": {},
   "outputs": [],
   "source": []
  }
 ],
 "metadata": {
  "kernelspec": {
   "display_name": "Python 3",
   "language": "python",
   "name": "python3"
  },
  "language_info": {
   "codemirror_mode": {
    "name": "ipython",
    "version": 3
   },
   "file_extension": ".py",
   "mimetype": "text/x-python",
   "name": "python",
   "nbconvert_exporter": "python",
   "pygments_lexer": "ipython3",
   "version": "3.6.13"
  }
 },
 "nbformat": 4,
 "nbformat_minor": 5
}
