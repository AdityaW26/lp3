{
 "cells": [
  {
   "cell_type": "code",
   "execution_count": 1,
   "id": "9fce7354",
   "metadata": {},
   "outputs": [],
   "source": [
    "def knapsack(W,wt,val,n):\n",
    "    if n==0 or W==0:\n",
    "        return 0\n",
    "    \n",
    "    if wt[n-1]>W:\n",
    "        return knapsack(W,wt,val,n-1)\n",
    "    else:\n",
    "        return max( val[n-1]+knapsack(W-wt[n-1],wt,val,n-1), \n",
    "                   knapsack(W,wt,val,n-1) )"
   ]
  },
  {
   "cell_type": "code",
   "execution_count": 2,
   "id": "e30ea724",
   "metadata": {},
   "outputs": [
    {
     "name": "stdout",
     "output_type": "stream",
     "text": [
      "220\n"
     ]
    }
   ],
   "source": [
    "print(knapsack(50,[10,20,30],[60,100,120],3))"
   ]
  },
  {
   "cell_type": "code",
   "execution_count": 3,
   "id": "9b2925b4",
   "metadata": {},
   "outputs": [],
   "source": [
    "def knapSack(W,wt,val,n):\n",
    "    k = [[0 for i in range(W+1)] for i in range(n+1)]\n",
    "    \n",
    "    for i in range(n+1):\n",
    "        for w in range(W+1):\n",
    "            if i==0 or w==0:\n",
    "                k[i][w]=0\n",
    "            elif wt[i-1]>=w:\n",
    "                k[i][w] = max( val[i-1]+k[i-1][w-wt[i-1]] ,\n",
    "                             k[i-1][w])\n",
    "            else:\n",
    "                k[i][w] = k[i-1][w]\n",
    "    return k[n][W]"
   ]
  },
  {
   "cell_type": "code",
   "execution_count": 4,
   "id": "06c732a0",
   "metadata": {},
   "outputs": [
    {
     "name": "stdout",
     "output_type": "stream",
     "text": [
      "220\n"
     ]
    }
   ],
   "source": [
    "print(knapsack(50,[10,20,30],[60,100,120],3))"
   ]
  },
  {
   "cell_type": "code",
   "execution_count": null,
   "id": "8111c7f7",
   "metadata": {},
   "outputs": [],
   "source": []
  }
 ],
 "metadata": {
  "kernelspec": {
   "display_name": "Python 3",
   "language": "python",
   "name": "python3"
  },
  "language_info": {
   "codemirror_mode": {
    "name": "ipython",
    "version": 3
   },
   "file_extension": ".py",
   "mimetype": "text/x-python",
   "name": "python",
   "nbconvert_exporter": "python",
   "pygments_lexer": "ipython3",
   "version": "3.6.13"
  }
 },
 "nbformat": 4,
 "nbformat_minor": 5
}
