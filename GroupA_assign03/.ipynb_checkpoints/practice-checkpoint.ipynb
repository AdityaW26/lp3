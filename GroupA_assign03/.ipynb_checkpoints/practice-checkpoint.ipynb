{
 "cells": [
  {
   "cell_type": "markdown",
   "id": "5e0c4a9e",
   "metadata": {},
   "source": [
    "# by bruteforce algorithm"
   ]
  },
  {
   "cell_type": "code",
   "execution_count": 1,
   "id": "8996fc0d",
   "metadata": {},
   "outputs": [],
   "source": [
    "def knapsack(W,wt,val,n):\n",
    "    if n==0 or W==0:\n",
    "        return 0\n",
    "    \n",
    "    if wt[n-1]>W:\n",
    "        return knapsack(W,wt,val,n-1)\n",
    "    else:\n",
    "        return max( val[n-1] + knapsack(W-wt[n-1],wt,val,n-1) ,\n",
    "                  knapsack(W,wt,val,n-1))"
   ]
  },
  {
   "cell_type": "code",
   "execution_count": 2,
   "id": "247b4ca1",
   "metadata": {},
   "outputs": [
    {
     "name": "stdout",
     "output_type": "stream",
     "text": [
      "220\n"
     ]
    }
   ],
   "source": [
    "W = 50\n",
    "wt = [10,20,30]\n",
    "val = [60,100,120]\n",
    "n = 3\n",
    "print(knapsack(W,wt,val,n))"
   ]
  },
  {
   "cell_type": "markdown",
   "id": "5188403d",
   "metadata": {},
   "source": [
    "# by dynamic programming algorithm"
   ]
  },
  {
   "cell_type": "code",
   "execution_count": 13,
   "id": "d66b6642",
   "metadata": {},
   "outputs": [],
   "source": [
    "def printknapsack(W,wt,val,n):\n",
    "    \n",
    "    K = [[0 for x in range(W+1)] for x in range(n+1)]\n",
    "    \n",
    "    for i in range(n+1):\n",
    "        for w in range(W+1):          # W only used in for loops and in the end\n",
    "            if i==0 or w==0:\n",
    "                K[i][w] = 0           # we're always initializing K[i][w], don't return anything\n",
    "            elif wt[i-1]<=w:\n",
    "                K[i][w] = max( val[i-1] + K[i-1][w-wt[i-1]] ,  # its w not W during subtraction\n",
    "                             K[i-1][w])\n",
    "            else:\n",
    "                K[i][w] = K[i-1][w]\n",
    "                \n",
    "    return K[n][W]"
   ]
  },
  {
   "cell_type": "code",
   "execution_count": 14,
   "id": "4426e6f7",
   "metadata": {},
   "outputs": [
    {
     "data": {
      "text/plain": [
       "220"
      ]
     },
     "execution_count": 14,
     "metadata": {},
     "output_type": "execute_result"
    }
   ],
   "source": [
    "printknapsack(W,wt,val,n)"
   ]
  },
  {
   "cell_type": "code",
   "execution_count": null,
   "id": "c173a5ef",
   "metadata": {},
   "outputs": [],
   "source": []
  }
 ],
 "metadata": {
  "kernelspec": {
   "display_name": "Python 3",
   "language": "python",
   "name": "python3"
  },
  "language_info": {
   "codemirror_mode": {
    "name": "ipython",
    "version": 3
   },
   "file_extension": ".py",
   "mimetype": "text/x-python",
   "name": "python",
   "nbconvert_exporter": "python",
   "pygments_lexer": "ipython3",
   "version": "3.6.13"
  }
 },
 "nbformat": 4,
 "nbformat_minor": 5
}
