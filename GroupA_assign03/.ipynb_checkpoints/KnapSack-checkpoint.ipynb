{
 "cells": [
  {
   "cell_type": "markdown",
   "id": "2d9c9ebd",
   "metadata": {},
   "source": [
    "# Recursion by Brute-Force algorithm"
   ]
  },
  {
   "cell_type": "code",
   "execution_count": 15,
   "id": "74df1092",
   "metadata": {},
   "outputs": [],
   "source": [
    "def knapsack(W, wt, val, n):\n",
    " \n",
    "    # Base Case\n",
    "    if n == 0 or W == 0:\n",
    "        return 0\n",
    " \n",
    "    if (wt[n-1] > W):\n",
    "        return knapsack(W, wt, val, n-1)\n",
    " \n",
    "    # return the maximum of two cases - 1. nth item included 2. not included\n",
    "    else:\n",
    "        return max(\n",
    "            val[n-1] + knapsack(\n",
    "                W-wt[n-1], wt, val, n-1),\n",
    "            knapsack(W, wt, val, n-1))\n"
   ]
  },
  {
   "cell_type": "code",
   "execution_count": 17,
   "id": "5131a483",
   "metadata": {},
   "outputs": [
    {
     "name": "stdout",
     "output_type": "stream",
     "text": [
      "Enter no. of weights - 3\n",
      "Enter max weight of knapsack - 50\n",
      "Enter weight 1 - 10\n",
      "Enter value 1 - 60\n",
      "Enter weight 2 - 20\n",
      "Enter value 2 - 100\n",
      "Enter weight 3 - 30\n",
      "Enter value 3 - 120\n"
     ]
    }
   ],
   "source": [
    "n = int(input(\"Enter no. of weights - \")) # 3\n",
    "W = int(input(\"Enter max weight of knapsack - \")) # 50\n",
    "wt, val = [], []    # [10, 20, 30], [60, 100, 120]\n",
    "for i in range(0,n):\n",
    "    wt.append(int(input(f\"Enter weight {i+1} - \")))\n",
    "    val.append(int(input(f\"Enter value {i+1} - \")))"
   ]
  },
  {
   "cell_type": "code",
   "execution_count": 18,
   "id": "f6acd252",
   "metadata": {},
   "outputs": [
    {
     "name": "stdout",
     "output_type": "stream",
     "text": [
      "220\n"
     ]
    }
   ],
   "source": [
    "print(knapsack(W,wt,val,n))"
   ]
  },
  {
   "cell_type": "markdown",
   "id": "f7858d61",
   "metadata": {},
   "source": [
    "# Recursion by Dynamic Programming algorithm"
   ]
  },
  {
   "cell_type": "code",
   "execution_count": 19,
   "id": "545dd960",
   "metadata": {},
   "outputs": [
    {
     "name": "stdout",
     "output_type": "stream",
     "text": [
      "220\n"
     ]
    }
   ],
   "source": [
    "def knapSack(W, wt, val, n):\n",
    "    K = [[0 for x in range(W + 1)] for x in range(n + 1)]\n",
    " \n",
    "    # Build table K[][] in bottom up manner\n",
    "    for i in range(n + 1):\n",
    "        for w in range(W + 1):\n",
    "            if i == 0 or w == 0:\n",
    "                K[i][w] = 0\n",
    "            elif wt[i-1] <= w:\n",
    "                K[i][w] = max(val[i-1]\n",
    "                          + K[i-1][w-wt[i-1]], \n",
    "                              K[i-1][w])\n",
    "            else:\n",
    "                K[i][w] = K[i-1][w]\n",
    " \n",
    "    return K[n][W]\n",
    " \n",
    "# Driver code\n",
    "val = [60, 100, 120]\n",
    "wt = [10, 20, 30]\n",
    "W = 50\n",
    "n = len(val)\n",
    "print(knapSack(W, wt, val, n))"
   ]
  },
  {
   "cell_type": "code",
   "execution_count": null,
   "id": "8ad694d5",
   "metadata": {},
   "outputs": [],
   "source": []
  }
 ],
 "metadata": {
  "kernelspec": {
   "display_name": "Python 3",
   "language": "python",
   "name": "python3"
  },
  "language_info": {
   "codemirror_mode": {
    "name": "ipython",
    "version": 3
   },
   "file_extension": ".py",
   "mimetype": "text/x-python",
   "name": "python",
   "nbconvert_exporter": "python",
   "pygments_lexer": "ipython3",
   "version": "3.6.13"
  }
 },
 "nbformat": 4,
 "nbformat_minor": 5
}
