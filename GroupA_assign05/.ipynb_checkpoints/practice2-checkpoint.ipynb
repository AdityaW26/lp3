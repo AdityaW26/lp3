{
 "cells": [
  {
   "cell_type": "code",
   "execution_count": 12,
   "id": "80443a58",
   "metadata": {},
   "outputs": [],
   "source": [
    "import random"
   ]
  },
  {
   "cell_type": "code",
   "execution_count": 29,
   "id": "8108f194",
   "metadata": {},
   "outputs": [],
   "source": [
    "def partition(arr,low,high):\n",
    "    r = random.randint(0,high-1)\n",
    "    pivot = arr[high-r]\n",
    "    i = low-1\n",
    "    \n",
    "    for j in range(low,high):\n",
    "        if arr[j]<=pivot:\n",
    "            i += 1\n",
    "            arr[i],arr[j] = arr[j],arr[i]\n",
    "    arr[i+1],arr[high] = arr[high],arr[i+1]\n",
    "    return i+1"
   ]
  },
  {
   "cell_type": "code",
   "execution_count": 30,
   "id": "8ae6e5c3",
   "metadata": {},
   "outputs": [],
   "source": [
    "def quicksort(arr,low,high):\n",
    "    if low<high:\n",
    "        pi = partition(arr,low,high)\n",
    "        quicksort(arr,low,pi-1)\n",
    "        quicksort(arr,pi+1,high)"
   ]
  },
  {
   "cell_type": "code",
   "execution_count": 39,
   "id": "f36c58ca",
   "metadata": {},
   "outputs": [
    {
     "name": "stdout",
     "output_type": "stream",
     "text": [
      "[3, 8, 1, 4, 9]\n",
      "[1, 3, 4, 8, 9]\n"
     ]
    }
   ],
   "source": [
    "data = [3,8,1,4,9]\n",
    "print(data)\n",
    "quicksort(data,0,len(data)-1)\n",
    "print(data)"
   ]
  },
  {
   "cell_type": "code",
   "execution_count": null,
   "id": "82e9c3ec",
   "metadata": {},
   "outputs": [],
   "source": []
  }
 ],
 "metadata": {
  "kernelspec": {
   "display_name": "Python 3",
   "language": "python",
   "name": "python3"
  },
  "language_info": {
   "codemirror_mode": {
    "name": "ipython",
    "version": 3
   },
   "file_extension": ".py",
   "mimetype": "text/x-python",
   "name": "python",
   "nbconvert_exporter": "python",
   "pygments_lexer": "ipython3",
   "version": "3.6.13"
  }
 },
 "nbformat": 4,
 "nbformat_minor": 5
}
