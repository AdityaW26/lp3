{
 "cells": [
  {
   "cell_type": "code",
   "execution_count": 1,
   "id": "29d471e9",
   "metadata": {},
   "outputs": [],
   "source": [
    "def partition(array, low, high):\n",
    "    pivot = array[high]\n",
    "    i = low-1\n",
    "    \n",
    "    for j in range(low,high):\n",
    "        if array[j]<=pivot:\n",
    "            i += 1\n",
    "            array[i], array[j] = array[j], array[i]\n",
    "    array[i+1], array[high] = array[high], array[i+1]\n",
    "    return i+1"
   ]
  },
  {
   "cell_type": "code",
   "execution_count": 2,
   "id": "9c678153",
   "metadata": {},
   "outputs": [],
   "source": [
    "def quicksort(array,low,high):\n",
    "    if low<high:\n",
    "        pi = partition(array,low,high)\n",
    "        quicksort(array,low,pi-1)\n",
    "        quicksort(array,pi+1,high)"
   ]
  },
  {
   "cell_type": "code",
   "execution_count": 10,
   "id": "69a25a8c",
   "metadata": {},
   "outputs": [
    {
     "name": "stdout",
     "output_type": "stream",
     "text": [
      "[3, 1, 8, 56, 4, 12]\n",
      "[1, 3, 4, 8, 12, 56]\n"
     ]
    }
   ],
   "source": [
    "arr = [3,1,8,56,4,12]\n",
    "print(arr)\n",
    "quicksort(arr,0,len(arr)-1)\n",
    "print(arr)"
   ]
  },
  {
   "cell_type": "code",
   "execution_count": null,
   "id": "94a0c2c6",
   "metadata": {},
   "outputs": [],
   "source": []
  }
 ],
 "metadata": {
  "kernelspec": {
   "display_name": "Python 3",
   "language": "python",
   "name": "python3"
  },
  "language_info": {
   "codemirror_mode": {
    "name": "ipython",
    "version": 3
   },
   "file_extension": ".py",
   "mimetype": "text/x-python",
   "name": "python",
   "nbconvert_exporter": "python",
   "pygments_lexer": "ipython3",
   "version": "3.6.13"
  }
 },
 "nbformat": 4,
 "nbformat_minor": 5
}
