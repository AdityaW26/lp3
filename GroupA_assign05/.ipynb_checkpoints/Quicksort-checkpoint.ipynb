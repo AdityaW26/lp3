{
 "cells": [
  {
   "cell_type": "markdown",
   "id": "e918bd58",
   "metadata": {},
   "source": [
    "Common adjectives in front of quicksort are deterministic and randomized. Deterministic means that the quicksort will always sort the same set of data in the same fashion while a randomized quicksort uses randomization and will rarely sort the same data in the same exact fashion (unless the data set is very small - then it is more common)."
   ]
  },
  {
   "cell_type": "markdown",
   "id": "5ab7a634",
   "metadata": {},
   "source": [
    "# Deterministic quicksort"
   ]
  },
  {
   "cell_type": "markdown",
   "id": "10f6e731",
   "metadata": {},
   "source": [
    "**Deterministic**\n",
    "\n",
    "It comes down to how the pivots are chosen. In a deterministic quicksort, the pivots are chosen by either always choosing the pivot at the same relative index such as the first, _last_, or middle element or by using the median of any number of predetermined element choices."
   ]
  },
  {
   "cell_type": "code",
   "execution_count": 3,
   "id": "7c0200ed",
   "metadata": {},
   "outputs": [
    {
     "name": "stdout",
     "output_type": "stream",
     "text": [
      "Unsorted Array\n",
      "[1, 7, 4, 11, 1, 19, -32]\n",
      "Sorted Array in Ascending Order:\n",
      "[-32, 1, 1, 4, 7, 11, 19]\n"
     ]
    }
   ],
   "source": [
    "def partition(array, low, high):  # Function to find the partition position\n",
    " \n",
    "    # choose the rightmost element as pivot - deterministic\n",
    "    pivot = array[high]\n",
    " \n",
    "    # pointer for greater element\n",
    "    i = low - 1\n",
    " \n",
    "    for j in range(low, high):\n",
    "        if array[j] <= pivot:\n",
    "            i = i + 1\n",
    "            (array[i], array[j]) = (array[j], array[i])\n",
    " \n",
    "    (array[i + 1], array[high]) = (array[high], array[i + 1])\n",
    " \n",
    "    # Return the position from where partition is done\n",
    "    return i + 1\n",
    "  \n",
    "def quickSort(array, low, high):   # function to perform quicksort\n",
    "    if low < high:\n",
    " \n",
    "        # Find pivot element such that\n",
    "        # element smaller than pivot are on the left\n",
    "        # element greater than pivot are on the right\n",
    "        pi = partition(array, low, high)\n",
    " \n",
    "        # Recursive call on the left of pivot\n",
    "        quickSort(array, low, pi - 1)\n",
    " \n",
    "        # Recursive call on the right of pivot\n",
    "        quickSort(array, pi + 1, high)\n",
    " \n",
    " \n",
    "data = [1, 7, 4, 11, 1, 19, -32]\n",
    "print(\"Unsorted Array\")\n",
    "print(data)\n",
    " \n",
    "size = len(data)\n",
    " \n",
    "quickSort(data, 0, size - 1)\n",
    " \n",
    "print('Sorted Array in Ascending Order:')\n",
    "print(data)"
   ]
  },
  {
   "cell_type": "markdown",
   "id": "367a3ec7",
   "metadata": {},
   "source": [
    "# Randomized quicksort"
   ]
  },
  {
   "cell_type": "markdown",
   "id": "9b247805",
   "metadata": {},
   "source": [
    "**Randomized**\n",
    "\n",
    "Randomizated quicksorts can choose just a random pivot or use the median of some number of randomly chosen pivots. There is still the possibility of O(N^2) time complexity, but the probability is much, much smaller and becomes smaller with increasing dataset size."
   ]
  },
  {
   "cell_type": "code",
   "execution_count": 6,
   "id": "c30ec5d7",
   "metadata": {},
   "outputs": [
    {
     "name": "stdout",
     "output_type": "stream",
     "text": [
      "Unsorted Array\n",
      "[1, 7, 4, 11, 1, 19, -32]\n",
      "Sorted Array in Ascending Order:\n",
      "[-32, 1, 1, 4, 7, 11, 19]\n"
     ]
    }
   ],
   "source": [
    "# todo\n",
    "\n",
    "def partition(array, low, high):  # Function to find the partition position\n",
    " \n",
    "    # choose the rightmost element as pivot - deterministic\n",
    "    pivot = array[high]\n",
    " \n",
    "    # pointer for greater element\n",
    "    i = low - 1\n",
    " \n",
    "    for j in range(low, high):\n",
    "        if array[j] <= pivot:\n",
    "            i = i + 1\n",
    "            (array[i], array[j]) = (array[j], array[i])\n",
    " \n",
    "    (array[i + 1], array[high]) = (array[high], array[i + 1])\n",
    " \n",
    "    # Return the position from where partition is done\n",
    "    return i + 1\n",
    "  \n",
    "def quickSort(array, low, high):   # function to perform quicksort\n",
    "    if low < high:\n",
    " \n",
    "        # Find pivot element such that\n",
    "        # element smaller than pivot are on the left\n",
    "        # element greater than pivot are on the right\n",
    "        pi = partition(array, low, high)\n",
    " \n",
    "        # Recursive call on the left of pivot\n",
    "        quickSort(array, low, pi - 1)\n",
    " \n",
    "        # Recursive call on the right of pivot\n",
    "        quickSort(array, pi + 1, high)\n",
    " \n",
    " \n",
    "data = [1, 7, 4, 11, 1, 19, -32]\n",
    "print(\"Unsorted Array\")\n",
    "print(data)\n",
    " \n",
    "size = len(data)\n",
    " \n",
    "quickSort(data, 0, size - 1)\n",
    " \n",
    "print('Sorted Array in Ascending Order:')\n",
    "print(data)"
   ]
  },
  {
   "cell_type": "code",
   "execution_count": null,
   "id": "7a92ea25",
   "metadata": {},
   "outputs": [],
   "source": []
  }
 ],
 "metadata": {
  "kernelspec": {
   "display_name": "Python 3",
   "language": "python",
   "name": "python3"
  },
  "language_info": {
   "codemirror_mode": {
    "name": "ipython",
    "version": 3
   },
   "file_extension": ".py",
   "mimetype": "text/x-python",
   "name": "python",
   "nbconvert_exporter": "python",
   "pygments_lexer": "ipython3",
   "version": "3.6.13"
  }
 },
 "nbformat": 4,
 "nbformat_minor": 5
}
