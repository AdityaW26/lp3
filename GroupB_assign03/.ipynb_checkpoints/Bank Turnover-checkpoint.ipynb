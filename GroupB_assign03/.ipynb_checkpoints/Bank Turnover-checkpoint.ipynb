{
 "cells": [
  {
   "cell_type": "markdown",
   "id": "93eac1eb",
   "metadata": {},
   "source": [
    "# Imports"
   ]
  },
  {
   "cell_type": "code",
   "execution_count": 1,
   "id": "037eadd6",
   "metadata": {},
   "outputs": [],
   "source": [
    "# !pip install tensorflow==1.2.0 --ignore-installed"
   ]
  },
  {
   "cell_type": "code",
   "execution_count": 2,
   "id": "6fac582c",
   "metadata": {
    "scrolled": false
   },
   "outputs": [],
   "source": [
    "import numpy as np\n",
    "import pandas as pd\n",
    "import matplotlib.pyplot as plt\n",
    "from sklearn import metrics\n",
    "import seaborn as sns\n",
    "from wordcloud import WordCloud\n",
    "from sklearn.preprocessing import LabelEncoder\n",
    "from sklearn.model_selection import train_test_split\n",
    "from sklearn.naive_bayes import MultinomialNB, GaussianNB\n",
    "from sklearn.feature_extraction.text import CountVectorizer\n",
    "from tensorflow import keras\n",
    "from sklearn.metrics import classification_report,accuracy_score"
   ]
  },
  {
   "cell_type": "code",
   "execution_count": 3,
   "id": "21475f0e",
   "metadata": {},
   "outputs": [
    {
     "data": {
      "text/html": [
       "<div>\n",
       "<style scoped>\n",
       "    .dataframe tbody tr th:only-of-type {\n",
       "        vertical-align: middle;\n",
       "    }\n",
       "\n",
       "    .dataframe tbody tr th {\n",
       "        vertical-align: top;\n",
       "    }\n",
       "\n",
       "    .dataframe thead th {\n",
       "        text-align: right;\n",
       "    }\n",
       "</style>\n",
       "<table border=\"1\" class=\"dataframe\">\n",
       "  <thead>\n",
       "    <tr style=\"text-align: right;\">\n",
       "      <th></th>\n",
       "      <th>RowNumber</th>\n",
       "      <th>CustomerId</th>\n",
       "      <th>Surname</th>\n",
       "      <th>CreditScore</th>\n",
       "      <th>Geography</th>\n",
       "      <th>Gender</th>\n",
       "      <th>Age</th>\n",
       "      <th>Tenure</th>\n",
       "      <th>Balance</th>\n",
       "      <th>NumOfProducts</th>\n",
       "      <th>HasCrCard</th>\n",
       "      <th>IsActiveMember</th>\n",
       "      <th>EstimatedSalary</th>\n",
       "      <th>Exited</th>\n",
       "    </tr>\n",
       "  </thead>\n",
       "  <tbody>\n",
       "    <tr>\n",
       "      <th>0</th>\n",
       "      <td>1</td>\n",
       "      <td>15634602</td>\n",
       "      <td>Hargrave</td>\n",
       "      <td>619</td>\n",
       "      <td>France</td>\n",
       "      <td>Female</td>\n",
       "      <td>42</td>\n",
       "      <td>2</td>\n",
       "      <td>0.00</td>\n",
       "      <td>1</td>\n",
       "      <td>1</td>\n",
       "      <td>1</td>\n",
       "      <td>101348.88</td>\n",
       "      <td>1</td>\n",
       "    </tr>\n",
       "    <tr>\n",
       "      <th>1</th>\n",
       "      <td>2</td>\n",
       "      <td>15647311</td>\n",
       "      <td>Hill</td>\n",
       "      <td>608</td>\n",
       "      <td>Spain</td>\n",
       "      <td>Female</td>\n",
       "      <td>41</td>\n",
       "      <td>1</td>\n",
       "      <td>83807.86</td>\n",
       "      <td>1</td>\n",
       "      <td>0</td>\n",
       "      <td>1</td>\n",
       "      <td>112542.58</td>\n",
       "      <td>0</td>\n",
       "    </tr>\n",
       "    <tr>\n",
       "      <th>2</th>\n",
       "      <td>3</td>\n",
       "      <td>15619304</td>\n",
       "      <td>Onio</td>\n",
       "      <td>502</td>\n",
       "      <td>France</td>\n",
       "      <td>Female</td>\n",
       "      <td>42</td>\n",
       "      <td>8</td>\n",
       "      <td>159660.80</td>\n",
       "      <td>3</td>\n",
       "      <td>1</td>\n",
       "      <td>0</td>\n",
       "      <td>113931.57</td>\n",
       "      <td>1</td>\n",
       "    </tr>\n",
       "    <tr>\n",
       "      <th>3</th>\n",
       "      <td>4</td>\n",
       "      <td>15701354</td>\n",
       "      <td>Boni</td>\n",
       "      <td>699</td>\n",
       "      <td>France</td>\n",
       "      <td>Female</td>\n",
       "      <td>39</td>\n",
       "      <td>1</td>\n",
       "      <td>0.00</td>\n",
       "      <td>2</td>\n",
       "      <td>0</td>\n",
       "      <td>0</td>\n",
       "      <td>93826.63</td>\n",
       "      <td>0</td>\n",
       "    </tr>\n",
       "    <tr>\n",
       "      <th>4</th>\n",
       "      <td>5</td>\n",
       "      <td>15737888</td>\n",
       "      <td>Mitchell</td>\n",
       "      <td>850</td>\n",
       "      <td>Spain</td>\n",
       "      <td>Female</td>\n",
       "      <td>43</td>\n",
       "      <td>2</td>\n",
       "      <td>125510.82</td>\n",
       "      <td>1</td>\n",
       "      <td>1</td>\n",
       "      <td>1</td>\n",
       "      <td>79084.10</td>\n",
       "      <td>0</td>\n",
       "    </tr>\n",
       "    <tr>\n",
       "      <th>...</th>\n",
       "      <td>...</td>\n",
       "      <td>...</td>\n",
       "      <td>...</td>\n",
       "      <td>...</td>\n",
       "      <td>...</td>\n",
       "      <td>...</td>\n",
       "      <td>...</td>\n",
       "      <td>...</td>\n",
       "      <td>...</td>\n",
       "      <td>...</td>\n",
       "      <td>...</td>\n",
       "      <td>...</td>\n",
       "      <td>...</td>\n",
       "      <td>...</td>\n",
       "    </tr>\n",
       "    <tr>\n",
       "      <th>9995</th>\n",
       "      <td>9996</td>\n",
       "      <td>15606229</td>\n",
       "      <td>Obijiaku</td>\n",
       "      <td>771</td>\n",
       "      <td>France</td>\n",
       "      <td>Male</td>\n",
       "      <td>39</td>\n",
       "      <td>5</td>\n",
       "      <td>0.00</td>\n",
       "      <td>2</td>\n",
       "      <td>1</td>\n",
       "      <td>0</td>\n",
       "      <td>96270.64</td>\n",
       "      <td>0</td>\n",
       "    </tr>\n",
       "    <tr>\n",
       "      <th>9996</th>\n",
       "      <td>9997</td>\n",
       "      <td>15569892</td>\n",
       "      <td>Johnstone</td>\n",
       "      <td>516</td>\n",
       "      <td>France</td>\n",
       "      <td>Male</td>\n",
       "      <td>35</td>\n",
       "      <td>10</td>\n",
       "      <td>57369.61</td>\n",
       "      <td>1</td>\n",
       "      <td>1</td>\n",
       "      <td>1</td>\n",
       "      <td>101699.77</td>\n",
       "      <td>0</td>\n",
       "    </tr>\n",
       "    <tr>\n",
       "      <th>9997</th>\n",
       "      <td>9998</td>\n",
       "      <td>15584532</td>\n",
       "      <td>Liu</td>\n",
       "      <td>709</td>\n",
       "      <td>France</td>\n",
       "      <td>Female</td>\n",
       "      <td>36</td>\n",
       "      <td>7</td>\n",
       "      <td>0.00</td>\n",
       "      <td>1</td>\n",
       "      <td>0</td>\n",
       "      <td>1</td>\n",
       "      <td>42085.58</td>\n",
       "      <td>1</td>\n",
       "    </tr>\n",
       "    <tr>\n",
       "      <th>9998</th>\n",
       "      <td>9999</td>\n",
       "      <td>15682355</td>\n",
       "      <td>Sabbatini</td>\n",
       "      <td>772</td>\n",
       "      <td>Germany</td>\n",
       "      <td>Male</td>\n",
       "      <td>42</td>\n",
       "      <td>3</td>\n",
       "      <td>75075.31</td>\n",
       "      <td>2</td>\n",
       "      <td>1</td>\n",
       "      <td>0</td>\n",
       "      <td>92888.52</td>\n",
       "      <td>1</td>\n",
       "    </tr>\n",
       "    <tr>\n",
       "      <th>9999</th>\n",
       "      <td>10000</td>\n",
       "      <td>15628319</td>\n",
       "      <td>Walker</td>\n",
       "      <td>792</td>\n",
       "      <td>France</td>\n",
       "      <td>Female</td>\n",
       "      <td>28</td>\n",
       "      <td>4</td>\n",
       "      <td>130142.79</td>\n",
       "      <td>1</td>\n",
       "      <td>1</td>\n",
       "      <td>0</td>\n",
       "      <td>38190.78</td>\n",
       "      <td>0</td>\n",
       "    </tr>\n",
       "  </tbody>\n",
       "</table>\n",
       "<p>10000 rows × 14 columns</p>\n",
       "</div>"
      ],
      "text/plain": [
       "      RowNumber  CustomerId    Surname  CreditScore Geography  Gender  Age  \\\n",
       "0             1    15634602   Hargrave          619    France  Female   42   \n",
       "1             2    15647311       Hill          608     Spain  Female   41   \n",
       "2             3    15619304       Onio          502    France  Female   42   \n",
       "3             4    15701354       Boni          699    France  Female   39   \n",
       "4             5    15737888   Mitchell          850     Spain  Female   43   \n",
       "...         ...         ...        ...          ...       ...     ...  ...   \n",
       "9995       9996    15606229   Obijiaku          771    France    Male   39   \n",
       "9996       9997    15569892  Johnstone          516    France    Male   35   \n",
       "9997       9998    15584532        Liu          709    France  Female   36   \n",
       "9998       9999    15682355  Sabbatini          772   Germany    Male   42   \n",
       "9999      10000    15628319     Walker          792    France  Female   28   \n",
       "\n",
       "      Tenure    Balance  NumOfProducts  HasCrCard  IsActiveMember  \\\n",
       "0          2       0.00              1          1               1   \n",
       "1          1   83807.86              1          0               1   \n",
       "2          8  159660.80              3          1               0   \n",
       "3          1       0.00              2          0               0   \n",
       "4          2  125510.82              1          1               1   \n",
       "...      ...        ...            ...        ...             ...   \n",
       "9995       5       0.00              2          1               0   \n",
       "9996      10   57369.61              1          1               1   \n",
       "9997       7       0.00              1          0               1   \n",
       "9998       3   75075.31              2          1               0   \n",
       "9999       4  130142.79              1          1               0   \n",
       "\n",
       "      EstimatedSalary  Exited  \n",
       "0           101348.88       1  \n",
       "1           112542.58       0  \n",
       "2           113931.57       1  \n",
       "3            93826.63       0  \n",
       "4            79084.10       0  \n",
       "...               ...     ...  \n",
       "9995         96270.64       0  \n",
       "9996        101699.77       0  \n",
       "9997         42085.58       1  \n",
       "9998         92888.52       1  \n",
       "9999         38190.78       0  \n",
       "\n",
       "[10000 rows x 14 columns]"
      ]
     },
     "execution_count": 3,
     "metadata": {},
     "output_type": "execute_result"
    }
   ],
   "source": [
    "df = pd.read_csv('Churn_Modelling.csv')\n",
    "df"
   ]
  },
  {
   "cell_type": "code",
   "execution_count": 4,
   "id": "6b3e6d85",
   "metadata": {},
   "outputs": [
    {
     "data": {
      "text/html": [
       "<div>\n",
       "<style scoped>\n",
       "    .dataframe tbody tr th:only-of-type {\n",
       "        vertical-align: middle;\n",
       "    }\n",
       "\n",
       "    .dataframe tbody tr th {\n",
       "        vertical-align: top;\n",
       "    }\n",
       "\n",
       "    .dataframe thead th {\n",
       "        text-align: right;\n",
       "    }\n",
       "</style>\n",
       "<table border=\"1\" class=\"dataframe\">\n",
       "  <thead>\n",
       "    <tr style=\"text-align: right;\">\n",
       "      <th></th>\n",
       "      <th>RowNumber</th>\n",
       "      <th>CustomerId</th>\n",
       "      <th>CreditScore</th>\n",
       "      <th>Age</th>\n",
       "      <th>Tenure</th>\n",
       "      <th>Balance</th>\n",
       "      <th>NumOfProducts</th>\n",
       "      <th>HasCrCard</th>\n",
       "      <th>IsActiveMember</th>\n",
       "      <th>EstimatedSalary</th>\n",
       "      <th>Exited</th>\n",
       "    </tr>\n",
       "  </thead>\n",
       "  <tbody>\n",
       "    <tr>\n",
       "      <th>count</th>\n",
       "      <td>10000.00000</td>\n",
       "      <td>1.000000e+04</td>\n",
       "      <td>10000.000000</td>\n",
       "      <td>10000.000000</td>\n",
       "      <td>10000.000000</td>\n",
       "      <td>10000.000000</td>\n",
       "      <td>10000.000000</td>\n",
       "      <td>10000.00000</td>\n",
       "      <td>10000.000000</td>\n",
       "      <td>10000.000000</td>\n",
       "      <td>10000.000000</td>\n",
       "    </tr>\n",
       "    <tr>\n",
       "      <th>mean</th>\n",
       "      <td>5000.50000</td>\n",
       "      <td>1.569094e+07</td>\n",
       "      <td>650.528800</td>\n",
       "      <td>38.921800</td>\n",
       "      <td>5.012800</td>\n",
       "      <td>76485.889288</td>\n",
       "      <td>1.530200</td>\n",
       "      <td>0.70550</td>\n",
       "      <td>0.515100</td>\n",
       "      <td>100090.239881</td>\n",
       "      <td>0.203700</td>\n",
       "    </tr>\n",
       "    <tr>\n",
       "      <th>std</th>\n",
       "      <td>2886.89568</td>\n",
       "      <td>7.193619e+04</td>\n",
       "      <td>96.653299</td>\n",
       "      <td>10.487806</td>\n",
       "      <td>2.892174</td>\n",
       "      <td>62397.405202</td>\n",
       "      <td>0.581654</td>\n",
       "      <td>0.45584</td>\n",
       "      <td>0.499797</td>\n",
       "      <td>57510.492818</td>\n",
       "      <td>0.402769</td>\n",
       "    </tr>\n",
       "    <tr>\n",
       "      <th>min</th>\n",
       "      <td>1.00000</td>\n",
       "      <td>1.556570e+07</td>\n",
       "      <td>350.000000</td>\n",
       "      <td>18.000000</td>\n",
       "      <td>0.000000</td>\n",
       "      <td>0.000000</td>\n",
       "      <td>1.000000</td>\n",
       "      <td>0.00000</td>\n",
       "      <td>0.000000</td>\n",
       "      <td>11.580000</td>\n",
       "      <td>0.000000</td>\n",
       "    </tr>\n",
       "    <tr>\n",
       "      <th>25%</th>\n",
       "      <td>2500.75000</td>\n",
       "      <td>1.562853e+07</td>\n",
       "      <td>584.000000</td>\n",
       "      <td>32.000000</td>\n",
       "      <td>3.000000</td>\n",
       "      <td>0.000000</td>\n",
       "      <td>1.000000</td>\n",
       "      <td>0.00000</td>\n",
       "      <td>0.000000</td>\n",
       "      <td>51002.110000</td>\n",
       "      <td>0.000000</td>\n",
       "    </tr>\n",
       "    <tr>\n",
       "      <th>50%</th>\n",
       "      <td>5000.50000</td>\n",
       "      <td>1.569074e+07</td>\n",
       "      <td>652.000000</td>\n",
       "      <td>37.000000</td>\n",
       "      <td>5.000000</td>\n",
       "      <td>97198.540000</td>\n",
       "      <td>1.000000</td>\n",
       "      <td>1.00000</td>\n",
       "      <td>1.000000</td>\n",
       "      <td>100193.915000</td>\n",
       "      <td>0.000000</td>\n",
       "    </tr>\n",
       "    <tr>\n",
       "      <th>75%</th>\n",
       "      <td>7500.25000</td>\n",
       "      <td>1.575323e+07</td>\n",
       "      <td>718.000000</td>\n",
       "      <td>44.000000</td>\n",
       "      <td>7.000000</td>\n",
       "      <td>127644.240000</td>\n",
       "      <td>2.000000</td>\n",
       "      <td>1.00000</td>\n",
       "      <td>1.000000</td>\n",
       "      <td>149388.247500</td>\n",
       "      <td>0.000000</td>\n",
       "    </tr>\n",
       "    <tr>\n",
       "      <th>max</th>\n",
       "      <td>10000.00000</td>\n",
       "      <td>1.581569e+07</td>\n",
       "      <td>850.000000</td>\n",
       "      <td>92.000000</td>\n",
       "      <td>10.000000</td>\n",
       "      <td>250898.090000</td>\n",
       "      <td>4.000000</td>\n",
       "      <td>1.00000</td>\n",
       "      <td>1.000000</td>\n",
       "      <td>199992.480000</td>\n",
       "      <td>1.000000</td>\n",
       "    </tr>\n",
       "  </tbody>\n",
       "</table>\n",
       "</div>"
      ],
      "text/plain": [
       "         RowNumber    CustomerId   CreditScore           Age        Tenure  \\\n",
       "count  10000.00000  1.000000e+04  10000.000000  10000.000000  10000.000000   \n",
       "mean    5000.50000  1.569094e+07    650.528800     38.921800      5.012800   \n",
       "std     2886.89568  7.193619e+04     96.653299     10.487806      2.892174   \n",
       "min        1.00000  1.556570e+07    350.000000     18.000000      0.000000   \n",
       "25%     2500.75000  1.562853e+07    584.000000     32.000000      3.000000   \n",
       "50%     5000.50000  1.569074e+07    652.000000     37.000000      5.000000   \n",
       "75%     7500.25000  1.575323e+07    718.000000     44.000000      7.000000   \n",
       "max    10000.00000  1.581569e+07    850.000000     92.000000     10.000000   \n",
       "\n",
       "             Balance  NumOfProducts    HasCrCard  IsActiveMember  \\\n",
       "count   10000.000000   10000.000000  10000.00000    10000.000000   \n",
       "mean    76485.889288       1.530200      0.70550        0.515100   \n",
       "std     62397.405202       0.581654      0.45584        0.499797   \n",
       "min         0.000000       1.000000      0.00000        0.000000   \n",
       "25%         0.000000       1.000000      0.00000        0.000000   \n",
       "50%     97198.540000       1.000000      1.00000        1.000000   \n",
       "75%    127644.240000       2.000000      1.00000        1.000000   \n",
       "max    250898.090000       4.000000      1.00000        1.000000   \n",
       "\n",
       "       EstimatedSalary        Exited  \n",
       "count     10000.000000  10000.000000  \n",
       "mean     100090.239881      0.203700  \n",
       "std       57510.492818      0.402769  \n",
       "min          11.580000      0.000000  \n",
       "25%       51002.110000      0.000000  \n",
       "50%      100193.915000      0.000000  \n",
       "75%      149388.247500      0.000000  \n",
       "max      199992.480000      1.000000  "
      ]
     },
     "execution_count": 4,
     "metadata": {},
     "output_type": "execute_result"
    }
   ],
   "source": [
    "df.describe()"
   ]
  },
  {
   "cell_type": "code",
   "execution_count": 5,
   "id": "c1e617a4",
   "metadata": {},
   "outputs": [
    {
     "data": {
      "text/plain": [
       "RowNumber            int64\n",
       "CustomerId           int64\n",
       "Surname             object\n",
       "CreditScore          int64\n",
       "Geography           object\n",
       "Gender              object\n",
       "Age                  int64\n",
       "Tenure               int64\n",
       "Balance            float64\n",
       "NumOfProducts        int64\n",
       "HasCrCard            int64\n",
       "IsActiveMember       int64\n",
       "EstimatedSalary    float64\n",
       "Exited               int64\n",
       "dtype: object"
      ]
     },
     "execution_count": 5,
     "metadata": {},
     "output_type": "execute_result"
    }
   ],
   "source": [
    "df.dtypes"
   ]
  },
  {
   "cell_type": "code",
   "execution_count": 6,
   "id": "f5a68aef",
   "metadata": {},
   "outputs": [
    {
     "data": {
      "text/plain": [
       "(10000, 14)"
      ]
     },
     "execution_count": 6,
     "metadata": {},
     "output_type": "execute_result"
    }
   ],
   "source": [
    "df.shape"
   ]
  },
  {
   "cell_type": "code",
   "execution_count": 7,
   "id": "06ba54a1",
   "metadata": {
    "scrolled": true
   },
   "outputs": [
    {
     "data": {
      "text/plain": [
       "(1    5084\n",
       " 2    4590\n",
       " 3     266\n",
       " 4      60\n",
       " Name: NumOfProducts, dtype: int64,\n",
       " 1    7055\n",
       " 0    2945\n",
       " Name: HasCrCard, dtype: int64,\n",
       " 1    5151\n",
       " 0    4849\n",
       " Name: IsActiveMember, dtype: int64,\n",
       " 0    7963\n",
       " 1    2037\n",
       " Name: Exited, dtype: int64)"
      ]
     },
     "execution_count": 7,
     "metadata": {},
     "output_type": "execute_result"
    }
   ],
   "source": [
    "df.NumOfProducts.value_counts(),df.HasCrCard.value_counts(),df.IsActiveMember.value_counts(),df.Exited.value_counts()"
   ]
  },
  {
   "cell_type": "code",
   "execution_count": 8,
   "id": "9b5da3cb",
   "metadata": {},
   "outputs": [
    {
     "data": {
      "text/plain": [
       "RowNumber          0\n",
       "CustomerId         0\n",
       "Surname            0\n",
       "CreditScore        0\n",
       "Geography          0\n",
       "Gender             0\n",
       "Age                0\n",
       "Tenure             0\n",
       "Balance            0\n",
       "NumOfProducts      0\n",
       "HasCrCard          0\n",
       "IsActiveMember     0\n",
       "EstimatedSalary    0\n",
       "Exited             0\n",
       "dtype: int64"
      ]
     },
     "execution_count": 8,
     "metadata": {},
     "output_type": "execute_result"
    }
   ],
   "source": [
    "df.isnull().sum()"
   ]
  },
  {
   "cell_type": "code",
   "execution_count": 9,
   "id": "d93ba836",
   "metadata": {},
   "outputs": [
    {
     "name": "stderr",
     "output_type": "stream",
     "text": [
      "C:\\Users\\Lenovo\\.conda\\envs\\myenv\\lib\\site-packages\\seaborn\\_decorators.py:43: FutureWarning: Pass the following variable as a keyword arg: x. From version 0.12, the only valid positional argument will be `data`, and passing other arguments without an explicit keyword will result in an error or misinterpretation.\n",
      "  FutureWarning\n",
      "C:\\Users\\Lenovo\\.conda\\envs\\myenv\\lib\\site-packages\\seaborn\\_decorators.py:43: FutureWarning: Pass the following variable as a keyword arg: x. From version 0.12, the only valid positional argument will be `data`, and passing other arguments without an explicit keyword will result in an error or misinterpretation.\n",
      "  FutureWarning\n",
      "C:\\Users\\Lenovo\\.conda\\envs\\myenv\\lib\\site-packages\\seaborn\\_decorators.py:43: FutureWarning: Pass the following variable as a keyword arg: x. From version 0.12, the only valid positional argument will be `data`, and passing other arguments without an explicit keyword will result in an error or misinterpretation.\n",
      "  FutureWarning\n"
     ]
    },
    {
     "data": {
      "image/png": "[encoded data removed]",
      "text/plain": [
       "<Figure size 1080x720 with 4 Axes>"
      ]
     },
     "metadata": {
      "needs_background": "light"
     },
     "output_type": "display_data"
    }
   ],
   "source": [
    "fig = plt.figure(figsize=(15,10))\n",
    "\n",
    "ax1 = fig.add_subplot(221)\n",
    "ax1.set_xlabel(\"NumOfProducts\")\n",
    "plt.hist(df['NumOfProducts'])\n",
    "\n",
    "ax2 = fig.add_subplot(222)\n",
    "ax2.set_xlabel(\"HasCrCard\")\n",
    "sns.countplot(df['HasCrCard'])\n",
    "\n",
    "ax3 = fig.add_subplot(223)\n",
    "ax3.set_xlabel(\"IsActiveMember\")\n",
    "sns.countplot(df['IsActiveMember'])\n",
    "\n",
    "ax4 = fig.add_subplot(224)\n",
    "ax4.set_xlabel(\"Exited\")\n",
    "sns.countplot(df['Exited'])\n",
    "\n",
    "plt.show()"
   ]
  },
  {
   "cell_type": "code",
   "execution_count": 10,
   "id": "0a47235b",
   "metadata": {},
   "outputs": [
    {
     "data": {
      "image/png": "[encoded data removed]",
      "text/plain": [
       "<Figure size 1080x720 with 3 Axes>"
      ]
     },
     "metadata": {
      "needs_background": "light"
     },
     "output_type": "display_data"
    }
   ],
   "source": [
    "fig = plt.figure(figsize=(15,10))\n",
    "\n",
    "ax1 = fig.add_subplot(221)\n",
    "ax1.set_xlabel(\"Age\")\n",
    "ax1.boxplot(df['Age']);\n",
    "\n",
    "ax2 = fig.add_subplot(222)\n",
    "ax2.set_xlabel(\"Tenure\")\n",
    "ax2.boxplot(df['Tenure']);\n",
    "\n",
    "ax3 = fig.add_subplot(223)\n",
    "ax3.plot(df['Balance']);\n",
    "\n",
    "\n",
    "plt.show()"
   ]
  },
  {
   "cell_type": "code",
   "execution_count": 11,
   "id": "4287fddc",
   "metadata": {},
   "outputs": [
    {
     "data": {
      "text/plain": [
       "(array(['France', 'Spain', 'Germany'], dtype=object),\n",
       " array(['Female', 'Male'], dtype=object))"
      ]
     },
     "execution_count": 11,
     "metadata": {},
     "output_type": "execute_result"
    }
   ],
   "source": [
    "df['Geography'].unique(), df['Gender'].unique()"
   ]
  },
  {
   "cell_type": "code",
   "execution_count": 12,
   "id": "7472648b",
   "metadata": {},
   "outputs": [],
   "source": [
    "label = LabelEncoder()\n",
    "df['Geography'] = label.fit_transform(df['Geography'])  # france=0, germany=1, spain=2\n",
    "df['Gender'] = label.fit_transform(df['Gender'])"
   ]
  },
  {
   "cell_type": "code",
   "execution_count": 13,
   "id": "7e2e8656",
   "metadata": {},
   "outputs": [
    {
     "data": {
      "text/html": [
       "<div>\n",
       "<style scoped>\n",
       "    .dataframe tbody tr th:only-of-type {\n",
       "        vertical-align: middle;\n",
       "    }\n",
       "\n",
       "    .dataframe tbody tr th {\n",
       "        vertical-align: top;\n",
       "    }\n",
       "\n",
       "    .dataframe thead th {\n",
       "        text-align: right;\n",
       "    }\n",
       "</style>\n",
       "<table border=\"1\" class=\"dataframe\">\n",
       "  <thead>\n",
       "    <tr style=\"text-align: right;\">\n",
       "      <th></th>\n",
       "      <th>Geography</th>\n",
       "      <th>Gender</th>\n",
       "    </tr>\n",
       "  </thead>\n",
       "  <tbody>\n",
       "    <tr>\n",
       "      <th>0</th>\n",
       "      <td>0</td>\n",
       "      <td>0</td>\n",
       "    </tr>\n",
       "    <tr>\n",
       "      <th>1</th>\n",
       "      <td>2</td>\n",
       "      <td>0</td>\n",
       "    </tr>\n",
       "    <tr>\n",
       "      <th>2</th>\n",
       "      <td>0</td>\n",
       "      <td>0</td>\n",
       "    </tr>\n",
       "    <tr>\n",
       "      <th>3</th>\n",
       "      <td>0</td>\n",
       "      <td>0</td>\n",
       "    </tr>\n",
       "    <tr>\n",
       "      <th>4</th>\n",
       "      <td>2</td>\n",
       "      <td>0</td>\n",
       "    </tr>\n",
       "    <tr>\n",
       "      <th>...</th>\n",
       "      <td>...</td>\n",
       "      <td>...</td>\n",
       "    </tr>\n",
       "    <tr>\n",
       "      <th>9995</th>\n",
       "      <td>0</td>\n",
       "      <td>1</td>\n",
       "    </tr>\n",
       "    <tr>\n",
       "      <th>9996</th>\n",
       "      <td>0</td>\n",
       "      <td>1</td>\n",
       "    </tr>\n",
       "    <tr>\n",
       "      <th>9997</th>\n",
       "      <td>0</td>\n",
       "      <td>0</td>\n",
       "    </tr>\n",
       "    <tr>\n",
       "      <th>9998</th>\n",
       "      <td>1</td>\n",
       "      <td>1</td>\n",
       "    </tr>\n",
       "    <tr>\n",
       "      <th>9999</th>\n",
       "      <td>0</td>\n",
       "      <td>0</td>\n",
       "    </tr>\n",
       "  </tbody>\n",
       "</table>\n",
       "<p>10000 rows × 2 columns</p>\n",
       "</div>"
      ],
      "text/plain": [
       "      Geography  Gender\n",
       "0             0       0\n",
       "1             2       0\n",
       "2             0       0\n",
       "3             0       0\n",
       "4             2       0\n",
       "...         ...     ...\n",
       "9995          0       1\n",
       "9996          0       1\n",
       "9997          0       0\n",
       "9998          1       1\n",
       "9999          0       0\n",
       "\n",
       "[10000 rows x 2 columns]"
      ]
     },
     "execution_count": 13,
     "metadata": {},
     "output_type": "execute_result"
    }
   ],
   "source": [
    "df[['Geography','Gender']]"
   ]
  },
  {
   "cell_type": "code",
   "execution_count": 14,
   "id": "bf8c2bdd",
   "metadata": {},
   "outputs": [
    {
     "data": {
      "text/plain": [
       "<AxesSubplot:>"
      ]
     },
     "execution_count": 14,
     "metadata": {},
     "output_type": "execute_result"
    },
    {
     "data": {
      "image/png": "[encoded data removed]",
      "text/plain": [
       "<Figure size 1080x720 with 2 Axes>"
      ]
     },
     "metadata": {
      "needs_background": "light"
     },
     "output_type": "display_data"
    }
   ],
   "source": [
    "fig = plt.figure(figsize=(15,10))\n",
    "sns.heatmap(data=df.corr().round(2), annot=True)"
   ]
  },
  {
   "cell_type": "code",
   "execution_count": 15,
   "id": "d54efa62",
   "metadata": {},
   "outputs": [
    {
     "data": {
      "text/html": [
       "<div>\n",
       "<style scoped>\n",
       "    .dataframe tbody tr th:only-of-type {\n",
       "        vertical-align: middle;\n",
       "    }\n",
       "\n",
       "    .dataframe tbody tr th {\n",
       "        vertical-align: top;\n",
       "    }\n",
       "\n",
       "    .dataframe thead th {\n",
       "        text-align: right;\n",
       "    }\n",
       "</style>\n",
       "<table border=\"1\" class=\"dataframe\">\n",
       "  <thead>\n",
       "    <tr style=\"text-align: right;\">\n",
       "      <th></th>\n",
       "      <th>CustomerId</th>\n",
       "      <th>CreditScore</th>\n",
       "      <th>Geography</th>\n",
       "      <th>Gender</th>\n",
       "      <th>Age</th>\n",
       "      <th>Tenure</th>\n",
       "      <th>Balance</th>\n",
       "      <th>NumOfProducts</th>\n",
       "      <th>HasCrCard</th>\n",
       "      <th>IsActiveMember</th>\n",
       "      <th>EstimatedSalary</th>\n",
       "      <th>Exited</th>\n",
       "    </tr>\n",
       "  </thead>\n",
       "  <tbody>\n",
       "    <tr>\n",
       "      <th>0</th>\n",
       "      <td>15634602</td>\n",
       "      <td>619</td>\n",
       "      <td>0</td>\n",
       "      <td>0</td>\n",
       "      <td>42</td>\n",
       "      <td>2</td>\n",
       "      <td>0.00</td>\n",
       "      <td>1</td>\n",
       "      <td>1</td>\n",
       "      <td>1</td>\n",
       "      <td>101348.88</td>\n",
       "      <td>1</td>\n",
       "    </tr>\n",
       "    <tr>\n",
       "      <th>1</th>\n",
       "      <td>15647311</td>\n",
       "      <td>608</td>\n",
       "      <td>2</td>\n",
       "      <td>0</td>\n",
       "      <td>41</td>\n",
       "      <td>1</td>\n",
       "      <td>83807.86</td>\n",
       "      <td>1</td>\n",
       "      <td>0</td>\n",
       "      <td>1</td>\n",
       "      <td>112542.58</td>\n",
       "      <td>0</td>\n",
       "    </tr>\n",
       "    <tr>\n",
       "      <th>2</th>\n",
       "      <td>15619304</td>\n",
       "      <td>502</td>\n",
       "      <td>0</td>\n",
       "      <td>0</td>\n",
       "      <td>42</td>\n",
       "      <td>8</td>\n",
       "      <td>159660.80</td>\n",
       "      <td>3</td>\n",
       "      <td>1</td>\n",
       "      <td>0</td>\n",
       "      <td>113931.57</td>\n",
       "      <td>1</td>\n",
       "    </tr>\n",
       "    <tr>\n",
       "      <th>3</th>\n",
       "      <td>15701354</td>\n",
       "      <td>699</td>\n",
       "      <td>0</td>\n",
       "      <td>0</td>\n",
       "      <td>39</td>\n",
       "      <td>1</td>\n",
       "      <td>0.00</td>\n",
       "      <td>2</td>\n",
       "      <td>0</td>\n",
       "      <td>0</td>\n",
       "      <td>93826.63</td>\n",
       "      <td>0</td>\n",
       "    </tr>\n",
       "    <tr>\n",
       "      <th>4</th>\n",
       "      <td>15737888</td>\n",
       "      <td>850</td>\n",
       "      <td>2</td>\n",
       "      <td>0</td>\n",
       "      <td>43</td>\n",
       "      <td>2</td>\n",
       "      <td>125510.82</td>\n",
       "      <td>1</td>\n",
       "      <td>1</td>\n",
       "      <td>1</td>\n",
       "      <td>79084.10</td>\n",
       "      <td>0</td>\n",
       "    </tr>\n",
       "  </tbody>\n",
       "</table>\n",
       "</div>"
      ],
      "text/plain": [
       "   CustomerId  CreditScore  Geography  Gender  Age  Tenure    Balance  \\\n",
       "0    15634602          619          0       0   42       2       0.00   \n",
       "1    15647311          608          2       0   41       1   83807.86   \n",
       "2    15619304          502          0       0   42       8  159660.80   \n",
       "3    15701354          699          0       0   39       1       0.00   \n",
       "4    15737888          850          2       0   43       2  125510.82   \n",
       "\n",
       "   NumOfProducts  HasCrCard  IsActiveMember  EstimatedSalary  Exited  \n",
       "0              1          1               1        101348.88       1  \n",
       "1              1          0               1        112542.58       0  \n",
       "2              3          1               0        113931.57       1  \n",
       "3              2          0               0         93826.63       0  \n",
       "4              1          1               1         79084.10       0  "
      ]
     },
     "execution_count": 15,
     "metadata": {},
     "output_type": "execute_result"
    }
   ],
   "source": [
    "df = df.drop(['RowNumber','Surname'],axis=1)\n",
    "df.head()"
   ]
  },
  {
   "cell_type": "markdown",
   "id": "9ae8e427",
   "metadata": {},
   "source": [
    "## Model Preparation"
   ]
  },
  {
   "cell_type": "code",
   "execution_count": 16,
   "id": "3782c97c",
   "metadata": {},
   "outputs": [],
   "source": [
    "x = df.drop(['Exited'],axis=1)\n",
    "y = df['Exited']"
   ]
  },
  {
   "cell_type": "markdown",
   "id": "2f9d6720",
   "metadata": {},
   "source": [
    "## Dataset Splitting"
   ]
  },
  {
   "cell_type": "code",
   "execution_count": 17,
   "id": "471867e9",
   "metadata": {},
   "outputs": [],
   "source": [
    "x_train,x_test,y_train,y_test = train_test_split(x,y,train_size=0.2,random_state=0)"
   ]
  },
  {
   "cell_type": "code",
   "execution_count": 18,
   "id": "639a21dc",
   "metadata": {},
   "outputs": [
    {
     "data": {
      "text/plain": [
       "((2000, 11), (8000, 11), (2000,), (8000,))"
      ]
     },
     "execution_count": 18,
     "metadata": {},
     "output_type": "execute_result"
    }
   ],
   "source": [
    "x_train.shape ,x_test.shape ,y_train.shape ,y_test.shape"
   ]
  },
  {
   "cell_type": "markdown",
   "id": "d4b8b96c",
   "metadata": {},
   "source": [
    "## Building an ANN model"
   ]
  },
  {
   "cell_type": "code",
   "execution_count": 19,
   "id": "dbe4bda2",
   "metadata": {},
   "outputs": [],
   "source": [
    "model = keras.Sequential([\n",
    "    keras.layers.Dense(units=25,activation='relu'),\n",
    "    keras.layers.Dense(units=20,activation='relu'),\n",
    "    keras.layers.Dense(units=1,activation='sigmoid')\n",
    "])"
   ]
  },
  {
   "cell_type": "code",
   "execution_count": 20,
   "id": "d596b0e9",
   "metadata": {},
   "outputs": [],
   "source": [
    "model.compile(optimizer='adam',loss='binary_crossentropy',metrics='accuracy')"
   ]
  },
  {
   "cell_type": "code",
   "execution_count": 21,
   "id": "c14b52ce",
   "metadata": {
    "scrolled": false
   },
   "outputs": [
    {
     "name": "stdout",
     "output_type": "stream",
     "text": [
      "Epoch 1/100\n",
      "63/63 [==============================] - 2s 3ms/step - loss: 54997.7109 - accuracy: 0.7025\n",
      "Epoch 2/100\n",
      "63/63 [==============================] - 0s 3ms/step - loss: 3309.7395 - accuracy: 0.6800\n",
      "Epoch 3/100\n",
      "63/63 [==============================] - 0s 3ms/step - loss: 2614.5542 - accuracy: 0.6830\n",
      "Epoch 4/100\n",
      "63/63 [==============================] - 0s 3ms/step - loss: 1806.8668 - accuracy: 0.6970\n",
      "Epoch 5/100\n",
      "63/63 [==============================] - 0s 3ms/step - loss: 2100.2854 - accuracy: 0.6905\n",
      "Epoch 6/100\n",
      "63/63 [==============================] - 0s 3ms/step - loss: 1439.5627 - accuracy: 0.6880\n",
      "Epoch 7/100\n",
      "63/63 [==============================] - 0s 3ms/step - loss: 2069.8882 - accuracy: 0.6670\n",
      "Epoch 8/100\n",
      "63/63 [==============================] - 0s 3ms/step - loss: 1298.9652 - accuracy: 0.6995\n",
      "Epoch 9/100\n",
      "63/63 [==============================] - 0s 3ms/step - loss: 2902.4280 - accuracy: 0.6870\n",
      "Epoch 10/100\n",
      "63/63 [==============================] - 0s 3ms/step - loss: 3426.0181 - accuracy: 0.6915\n",
      "Epoch 11/100\n",
      "63/63 [==============================] - 0s 3ms/step - loss: 3163.0630 - accuracy: 0.6845\n",
      "Epoch 12/100\n",
      "63/63 [==============================] - 0s 3ms/step - loss: 3404.9263 - accuracy: 0.6845\n",
      "Epoch 13/100\n",
      "63/63 [==============================] - 0s 3ms/step - loss: 3343.3491 - accuracy: 0.6775\n",
      "Epoch 14/100\n",
      "63/63 [==============================] - 0s 3ms/step - loss: 1993.7687 - accuracy: 0.6690\n",
      "Epoch 15/100\n",
      "63/63 [==============================] - 0s 3ms/step - loss: 2473.9888 - accuracy: 0.6935\n",
      "Epoch 16/100\n",
      "63/63 [==============================] - 0s 3ms/step - loss: 5385.3721 - accuracy: 0.6675\n",
      "Epoch 17/100\n",
      "63/63 [==============================] - 0s 3ms/step - loss: 1627.4418 - accuracy: 0.6895\n",
      "Epoch 18/100\n",
      "63/63 [==============================] - 0s 3ms/step - loss: 2104.4602 - accuracy: 0.7050\n",
      "Epoch 19/100\n",
      "63/63 [==============================] - 0s 3ms/step - loss: 1395.3636 - accuracy: 0.6765\n",
      "Epoch 20/100\n",
      "63/63 [==============================] - 0s 3ms/step - loss: 3536.9905 - accuracy: 0.6995\n",
      "Epoch 21/100\n",
      "63/63 [==============================] - 0s 3ms/step - loss: 3363.9502 - accuracy: 0.6720\n",
      "Epoch 22/100\n",
      "63/63 [==============================] - 0s 3ms/step - loss: 4425.5029 - accuracy: 0.6865\n",
      "Epoch 23/100\n",
      "63/63 [==============================] - 0s 3ms/step - loss: 1197.7722 - accuracy: 0.6875\n",
      "Epoch 24/100\n",
      "63/63 [==============================] - 0s 3ms/step - loss: 3043.7002 - accuracy: 0.6810\n",
      "Epoch 25/100\n",
      "63/63 [==============================] - 0s 3ms/step - loss: 2435.7139 - accuracy: 0.6895\n",
      "Epoch 26/100\n",
      "63/63 [==============================] - 0s 3ms/step - loss: 3232.5022 - accuracy: 0.6670\n",
      "Epoch 27/100\n",
      "63/63 [==============================] - 0s 3ms/step - loss: 4494.8203 - accuracy: 0.6930\n",
      "Epoch 28/100\n",
      "63/63 [==============================] - 0s 3ms/step - loss: 2344.0632 - accuracy: 0.6835\n",
      "Epoch 29/100\n",
      "63/63 [==============================] - 0s 3ms/step - loss: 1782.4197 - accuracy: 0.6830\n",
      "Epoch 30/100\n",
      "63/63 [==============================] - 0s 3ms/step - loss: 1967.3729 - accuracy: 0.6800\n",
      "Epoch 31/100\n",
      "63/63 [==============================] - 0s 3ms/step - loss: 1410.9948 - accuracy: 0.6870\n",
      "Epoch 32/100\n",
      "63/63 [==============================] - 0s 3ms/step - loss: 1950.6796 - accuracy: 0.6940\n",
      "Epoch 33/100\n",
      "63/63 [==============================] - 0s 3ms/step - loss: 3462.5322 - accuracy: 0.6755\n",
      "Epoch 34/100\n",
      "63/63 [==============================] - 0s 3ms/step - loss: 3408.7119 - accuracy: 0.6890\n",
      "Epoch 35/100\n",
      "63/63 [==============================] - 0s 3ms/step - loss: 2933.2534 - accuracy: 0.6780\n",
      "Epoch 36/100\n",
      "63/63 [==============================] - 0s 3ms/step - loss: 1919.8655 - accuracy: 0.6905\n",
      "Epoch 37/100\n",
      "63/63 [==============================] - 0s 3ms/step - loss: 3955.2515 - accuracy: 0.6815\n",
      "Epoch 38/100\n",
      "63/63 [==============================] - 0s 3ms/step - loss: 1432.8235 - accuracy: 0.7040\n",
      "Epoch 39/100\n",
      "63/63 [==============================] - 0s 3ms/step - loss: 2073.0476 - accuracy: 0.6735\n",
      "Epoch 40/100\n",
      "63/63 [==============================] - 0s 3ms/step - loss: 2674.4788 - accuracy: 0.6940\n",
      "Epoch 41/100\n",
      "63/63 [==============================] - 0s 3ms/step - loss: 1916.1924 - accuracy: 0.6715\n",
      "Epoch 42/100\n",
      "63/63 [==============================] - 0s 3ms/step - loss: 1436.6415 - accuracy: 0.6905\n",
      "Epoch 43/100\n",
      "63/63 [==============================] - 0s 3ms/step - loss: 3606.3181 - accuracy: 0.6730\n",
      "Epoch 44/100\n",
      "63/63 [==============================] - 0s 3ms/step - loss: 3081.9060 - accuracy: 0.6865\n",
      "Epoch 45/100\n",
      "63/63 [==============================] - 0s 3ms/step - loss: 2426.5232 - accuracy: 0.6785\n",
      "Epoch 46/100\n",
      "63/63 [==============================] - 0s 3ms/step - loss: 2578.9783 - accuracy: 0.6970\n",
      "Epoch 47/100\n",
      "63/63 [==============================] - 0s 2ms/step - loss: 3590.5623 - accuracy: 0.6710\n",
      "Epoch 48/100\n",
      "63/63 [==============================] - 0s 3ms/step - loss: 1995.9821 - accuracy: 0.7070\n",
      "Epoch 49/100\n",
      "63/63 [==============================] - 0s 3ms/step - loss: 2383.7156 - accuracy: 0.6885\n",
      "Epoch 50/100\n",
      "63/63 [==============================] - 0s 3ms/step - loss: 2436.8403 - accuracy: 0.6830\n",
      "Epoch 51/100\n",
      "63/63 [==============================] - 0s 3ms/step - loss: 2118.1116 - accuracy: 0.6750\n",
      "Epoch 52/100\n",
      "63/63 [==============================] - 0s 3ms/step - loss: 2626.7966 - accuracy: 0.6675\n",
      "Epoch 53/100\n",
      "63/63 [==============================] - 0s 3ms/step - loss: 2541.4756 - accuracy: 0.6860\n",
      "Epoch 54/100\n",
      "63/63 [==============================] - 0s 3ms/step - loss: 2006.7104 - accuracy: 0.6685\n",
      "Epoch 55/100\n",
      "63/63 [==============================] - 0s 3ms/step - loss: 2327.7615 - accuracy: 0.6820\n",
      "Epoch 56/100\n",
      "63/63 [==============================] - 0s 3ms/step - loss: 3098.5020 - accuracy: 0.6850\n",
      "Epoch 57/100\n",
      "63/63 [==============================] - 0s 3ms/step - loss: 1686.3770 - accuracy: 0.6840\n",
      "Epoch 58/100\n",
      "63/63 [==============================] - 0s 3ms/step - loss: 1743.0586 - accuracy: 0.6695\n",
      "Epoch 59/100\n",
      "63/63 [==============================] - 0s 3ms/step - loss: 2246.6282 - accuracy: 0.6935\n",
      "Epoch 60/100\n",
      "63/63 [==============================] - 0s 3ms/step - loss: 4251.6450 - accuracy: 0.6775\n",
      "Epoch 61/100\n",
      "63/63 [==============================] - 0s 2ms/step - loss: 2026.4248 - accuracy: 0.6855\n",
      "Epoch 62/100\n",
      "63/63 [==============================] - 0s 3ms/step - loss: 2990.5505 - accuracy: 0.6840\n",
      "Epoch 63/100\n",
      "63/63 [==============================] - 0s 3ms/step - loss: 2296.3079 - accuracy: 0.6785\n",
      "Epoch 64/100\n",
      "63/63 [==============================] - 0s 3ms/step - loss: 1534.9762 - accuracy: 0.6700\n",
      "Epoch 65/100\n",
      "63/63 [==============================] - 0s 3ms/step - loss: 2645.3403 - accuracy: 0.6705\n",
      "Epoch 66/100\n",
      "63/63 [==============================] - 0s 3ms/step - loss: 2986.9231 - accuracy: 0.6790\n",
      "Epoch 67/100\n",
      "63/63 [==============================] - 0s 3ms/step - loss: 2617.6001 - accuracy: 0.6875\n",
      "Epoch 68/100\n",
      "63/63 [==============================] - 0s 3ms/step - loss: 1578.6127 - accuracy: 0.6700\n",
      "Epoch 69/100\n",
      "63/63 [==============================] - 0s 3ms/step - loss: 3789.9446 - accuracy: 0.6790\n",
      "Epoch 70/100\n",
      "63/63 [==============================] - 0s 3ms/step - loss: 2095.3567 - accuracy: 0.6890\n",
      "Epoch 71/100\n",
      "63/63 [==============================] - 0s 3ms/step - loss: 2434.6821 - accuracy: 0.6855\n",
      "Epoch 72/100\n",
      "63/63 [==============================] - 0s 3ms/step - loss: 1164.4773 - accuracy: 0.6835\n",
      "Epoch 73/100\n",
      "63/63 [==============================] - 0s 3ms/step - loss: 2771.3752 - accuracy: 0.6965\n",
      "Epoch 74/100\n",
      "63/63 [==============================] - 0s 3ms/step - loss: 1833.1261 - accuracy: 0.6680\n",
      "Epoch 75/100\n",
      "63/63 [==============================] - 0s 3ms/step - loss: 1061.6991 - accuracy: 0.6805\n",
      "Epoch 76/100\n",
      "63/63 [==============================] - 0s 3ms/step - loss: 2220.8838 - accuracy: 0.6880\n",
      "Epoch 77/100\n",
      "63/63 [==============================] - 0s 3ms/step - loss: 2880.5815 - accuracy: 0.6820\n",
      "Epoch 78/100\n",
      "63/63 [==============================] - 0s 3ms/step - loss: 1688.7201 - accuracy: 0.6835\n",
      "Epoch 79/100\n",
      "63/63 [==============================] - 0s 3ms/step - loss: 2285.1292 - accuracy: 0.6700\n",
      "Epoch 80/100\n"
     ]
    },
    {
     "name": "stdout",
     "output_type": "stream",
     "text": [
      "63/63 [==============================] - 0s 3ms/step - loss: 1609.8704 - accuracy: 0.6855\n",
      "Epoch 81/100\n",
      "63/63 [==============================] - 0s 3ms/step - loss: 1109.5417 - accuracy: 0.6970\n",
      "Epoch 82/100\n",
      "63/63 [==============================] - 0s 3ms/step - loss: 1891.9634 - accuracy: 0.7050\n",
      "Epoch 83/100\n",
      "63/63 [==============================] - 0s 3ms/step - loss: 1337.4497 - accuracy: 0.7015\n",
      "Epoch 84/100\n",
      "63/63 [==============================] - 0s 3ms/step - loss: 2493.5554 - accuracy: 0.6825\n",
      "Epoch 85/100\n",
      "63/63 [==============================] - 0s 3ms/step - loss: 2021.8578 - accuracy: 0.6920\n",
      "Epoch 86/100\n",
      "63/63 [==============================] - 0s 3ms/step - loss: 2703.7539 - accuracy: 0.6880\n",
      "Epoch 87/100\n",
      "63/63 [==============================] - 0s 3ms/step - loss: 1964.8342 - accuracy: 0.6715\n",
      "Epoch 88/100\n",
      "63/63 [==============================] - 0s 3ms/step - loss: 1752.6766 - accuracy: 0.6765\n",
      "Epoch 89/100\n",
      "63/63 [==============================] - 0s 3ms/step - loss: 2520.8154 - accuracy: 0.6910\n",
      "Epoch 90/100\n",
      "63/63 [==============================] - 0s 3ms/step - loss: 2705.8960 - accuracy: 0.6725A: 0s - loss: 4563.6260 - accuracy: 0.6\n",
      "Epoch 91/100\n",
      "63/63 [==============================] - 0s 3ms/step - loss: 2022.2948 - accuracy: 0.6785\n",
      "Epoch 92/100\n",
      "63/63 [==============================] - 0s 3ms/step - loss: 2029.1293 - accuracy: 0.7035\n",
      "Epoch 93/100\n",
      "63/63 [==============================] - 0s 3ms/step - loss: 3088.6311 - accuracy: 0.6905\n",
      "Epoch 94/100\n",
      "63/63 [==============================] - 0s 3ms/step - loss: 1707.1715 - accuracy: 0.6775\n",
      "Epoch 95/100\n",
      "63/63 [==============================] - 0s 3ms/step - loss: 980.5809 - accuracy: 0.6870\n",
      "Epoch 96/100\n",
      "63/63 [==============================] - 0s 3ms/step - loss: 3400.7493 - accuracy: 0.6920\n",
      "Epoch 97/100\n",
      "63/63 [==============================] - 0s 3ms/step - loss: 3019.4026 - accuracy: 0.6860\n",
      "Epoch 98/100\n",
      "63/63 [==============================] - 0s 3ms/step - loss: 2874.9292 - accuracy: 0.6720\n",
      "Epoch 99/100\n",
      "63/63 [==============================] - 0s 3ms/step - loss: 1693.8646 - accuracy: 0.6755\n",
      "Epoch 100/100\n",
      "63/63 [==============================] - 0s 3ms/step - loss: 1384.5679 - accuracy: 0.6850\n"
     ]
    },
    {
     "data": {
      "text/plain": [
       "<keras.callbacks.History at 0x19451924eb8>"
      ]
     },
     "execution_count": 21,
     "metadata": {},
     "output_type": "execute_result"
    }
   ],
   "source": [
    "model.fit(x_train,y_train,epochs=100)"
   ]
  },
  {
   "cell_type": "code",
   "execution_count": 22,
   "id": "df215523",
   "metadata": {},
   "outputs": [
    {
     "name": "stdout",
     "output_type": "stream",
     "text": [
      "250/250 [==============================] - 1s 2ms/step - loss: 1540.2048 - accuracy: 0.2045\n"
     ]
    },
    {
     "data": {
      "text/plain": [
       "[1540.204833984375, 0.2045000046491623]"
      ]
     },
     "execution_count": 22,
     "metadata": {},
     "output_type": "execute_result"
    }
   ],
   "source": [
    "model.evaluate(x_test,y_test)"
   ]
  },
  {
   "cell_type": "markdown",
   "id": "8221a1e0",
   "metadata": {},
   "source": [
    "### Prediction"
   ]
  },
  {
   "cell_type": "code",
   "execution_count": 23,
   "id": "f545f00e",
   "metadata": {},
   "outputs": [
    {
     "data": {
      "text/plain": [
       "array([[1.],\n",
       "       [1.],\n",
       "       [1.],\n",
       "       ...,\n",
       "       [1.],\n",
       "       [1.],\n",
       "       [1.]], dtype=float32)"
      ]
     },
     "execution_count": 23,
     "metadata": {},
     "output_type": "execute_result"
    }
   ],
   "source": [
    "y_preds = model.predict(x_test)\n",
    "y_preds"
   ]
  },
  {
   "cell_type": "code",
   "execution_count": 29,
   "id": "a4125dd9",
   "metadata": {},
   "outputs": [
    {
     "data": {
      "text/plain": [
       "{1.0}"
      ]
     },
     "execution_count": 29,
     "metadata": {},
     "output_type": "execute_result"
    }
   ],
   "source": [
    "y_pred = []\n",
    "for p in y_preds:\n",
    "    y_pred.append(p[0])\n",
    "set(y_pred)"
   ]
  },
  {
   "cell_type": "code",
   "execution_count": 24,
   "id": "b381c8dc",
   "metadata": {},
   "outputs": [
    {
     "data": {
      "image/png": "[encoded data removed]",
      "text/plain": [
       "<Figure size 576x360 with 2 Axes>"
      ]
     },
     "metadata": {
      "needs_background": "light"
     },
     "output_type": "display_data"
    }
   ],
   "source": [
    "import tensorflow as tf \n",
    "cm = tf.math.confusion_matrix(labels=y_test, predictions=y_preds)\n",
    "plt.figure(figsize=(8,5))\n",
    "sns.heatmap(cm , annot=True,fmt = 'd')\n",
    "plt.show()"
   ]
  },
  {
   "cell_type": "code",
   "execution_count": 25,
   "id": "ad56176d",
   "metadata": {},
   "outputs": [],
   "source": [
    "y_pred = []\n",
    "for element in y_preds:\n",
    "    if element > 0.5:\n",
    "        y_pred.append(1)\n",
    "    else:\n",
    "        y_pred.append(0)"
   ]
  },
  {
   "cell_type": "code",
   "execution_count": 26,
   "id": "6d1f6e82",
   "metadata": {},
   "outputs": [
    {
     "data": {
      "text/plain": [
       "[1, 1, 1, 1, 1, 1, 1, 1, 1, 1, 1, 1, 1, 1, 1]"
      ]
     },
     "execution_count": 26,
     "metadata": {},
     "output_type": "execute_result"
    }
   ],
   "source": [
    "y_pred[:15]"
   ]
  },
  {
   "cell_type": "code",
   "execution_count": 27,
   "id": "50afe995",
   "metadata": {},
   "outputs": [
    {
     "name": "stdout",
     "output_type": "stream",
     "text": [
      "              precision    recall  f1-score   support\n",
      "\n",
      "           0       0.00      0.00      0.00      6364\n",
      "           1       0.20      1.00      0.34      1636\n",
      "\n",
      "    accuracy                           0.20      8000\n",
      "   macro avg       0.10      0.50      0.17      8000\n",
      "weighted avg       0.04      0.20      0.07      8000\n",
      "\n"
     ]
    },
    {
     "name": "stderr",
     "output_type": "stream",
     "text": [
      "C:\\Users\\Lenovo\\.conda\\envs\\myenv\\lib\\site-packages\\sklearn\\metrics\\_classification.py:1248: UndefinedMetricWarning: Precision and F-score are ill-defined and being set to 0.0 in labels with no predicted samples. Use `zero_division` parameter to control this behavior.\n",
      "  _warn_prf(average, modifier, msg_start, len(result))\n",
      "C:\\Users\\Lenovo\\.conda\\envs\\myenv\\lib\\site-packages\\sklearn\\metrics\\_classification.py:1248: UndefinedMetricWarning: Precision and F-score are ill-defined and being set to 0.0 in labels with no predicted samples. Use `zero_division` parameter to control this behavior.\n",
      "  _warn_prf(average, modifier, msg_start, len(result))\n",
      "C:\\Users\\Lenovo\\.conda\\envs\\myenv\\lib\\site-packages\\sklearn\\metrics\\_classification.py:1248: UndefinedMetricWarning: Precision and F-score are ill-defined and being set to 0.0 in labels with no predicted samples. Use `zero_division` parameter to control this behavior.\n",
      "  _warn_prf(average, modifier, msg_start, len(result))\n"
     ]
    }
   ],
   "source": [
    "print(classification_report(y_test,y_pred))"
   ]
  },
  {
   "cell_type": "code",
   "execution_count": 28,
   "id": "326df7ab",
   "metadata": {},
   "outputs": [
    {
     "data": {
      "text/plain": [
       "20.45"
      ]
     },
     "execution_count": 28,
     "metadata": {},
     "output_type": "execute_result"
    }
   ],
   "source": [
    "acc_score = accuracy_score(y_test,y_pred) * 100\n",
    "acc_score"
   ]
  },
  {
   "cell_type": "code",
   "execution_count": null,
   "id": "e48d7dd8",
   "metadata": {},
   "outputs": [],
   "source": []
  }
 ],
 "metadata": {
  "kernelspec": {
   "display_name": "Python 3",
   "language": "python",
   "name": "python3"
  },
  "language_info": {
   "codemirror_mode": {
    "name": "ipython",
    "version": 3
   },
   "file_extension": ".py",
   "mimetype": "text/x-python",
   "name": "python",
   "nbconvert_exporter": "python",
   "pygments_lexer": "ipython3",
   "version": "3.6.13"
  }
 },
 "nbformat": 4,
 "nbformat_minor": 5
}
