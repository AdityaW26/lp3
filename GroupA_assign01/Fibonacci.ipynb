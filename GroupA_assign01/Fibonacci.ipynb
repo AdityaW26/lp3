{
 "cells": [
  {
   "cell_type": "markdown",
   "id": "5af9b171",
   "metadata": {},
   "source": [
    "# Fibonacci without recursion"
   ]
  },
  {
   "cell_type": "code",
   "execution_count": 26,
   "id": "533074e3",
   "metadata": {},
   "outputs": [
    {
     "name": "stdout",
     "output_type": "stream",
     "text": [
      "Enter no. of numbers - 4\n"
     ]
    }
   ],
   "source": [
    "a,b,c = 0,1,0\n",
    "num = int(input(\"Enter no. of numbers - \"))"
   ]
  },
  {
   "cell_type": "code",
   "execution_count": 27,
   "id": "713492b8",
   "metadata": {},
   "outputs": [
    {
     "name": "stdout",
     "output_type": "stream",
     "text": [
      "0,1,1,2,"
     ]
    }
   ],
   "source": [
    "print(\"0\",end=\",\")\n",
    "for i in range(0,num-1):\n",
    "    c=a+b\n",
    "    a=b\n",
    "    b=c\n",
    "    print(a,end=\",\")"
   ]
  },
  {
   "cell_type": "markdown",
   "id": "a818e513",
   "metadata": {},
   "source": [
    "# Fibonacci with recursion"
   ]
  },
  {
   "cell_type": "code",
   "execution_count": 46,
   "id": "50fce2b4",
   "metadata": {},
   "outputs": [],
   "source": [
    "def printFibonacci(n):\n",
    "    if n==-1:\n",
    "        return \n",
    "    elif n==0:\n",
    "        return 0\n",
    "    elif n==1:\n",
    "        return 1\n",
    "    else:\n",
    "        return printFibonacci(n-1) + printFibonacci(n-2)"
   ]
  },
  {
   "cell_type": "code",
   "execution_count": 48,
   "id": "3db9bd47",
   "metadata": {},
   "outputs": [
    {
     "name": "stdout",
     "output_type": "stream",
     "text": [
      "Enter no. of numbers - 7\n",
      "0,1,1,2,3,5,8,"
     ]
    }
   ],
   "source": [
    "num = int(input(\"Enter no. of numbers - \"))\n",
    "for i in range(0,num):\n",
    "    print(printFibonacci(i), end=\",\")"
   ]
  },
  {
   "cell_type": "code",
   "execution_count": null,
   "id": "0759627e",
   "metadata": {},
   "outputs": [],
   "source": []
  }
 ],
 "metadata": {
  "kernelspec": {
   "display_name": "Python 3",
   "language": "python",
   "name": "python3"
  },
  "language_info": {
   "codemirror_mode": {
    "name": "ipython",
    "version": 3
   },
   "file_extension": ".py",
   "mimetype": "text/x-python",
   "name": "python",
   "nbconvert_exporter": "python",
   "pygments_lexer": "ipython3",
   "version": "3.6.13"
  }
 },
 "nbformat": 4,
 "nbformat_minor": 5
}
