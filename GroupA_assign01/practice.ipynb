{
 "cells": [
  {
   "cell_type": "markdown",
   "id": "a290dfa3",
   "metadata": {},
   "source": [
    "# w/o recursion"
   ]
  },
  {
   "cell_type": "code",
   "execution_count": 1,
   "id": "e4ca8d21",
   "metadata": {},
   "outputs": [
    {
     "name": "stdout",
     "output_type": "stream",
     "text": [
      "Enter no. of nums - 9\n",
      "0, 1, 1, 2, 3, 5, 8, 13, 21, "
     ]
    }
   ],
   "source": [
    "a,b,c = 0,1,0\n",
    "nums = int(input(\"Enter no. of nums - \"))\n",
    "print(\"0\",end=\", \")\n",
    "for i in range(0,nums-1):\n",
    "    c = a+b\n",
    "    a=b\n",
    "    b=c\n",
    "    print(a,end=\", \")"
   ]
  },
  {
   "cell_type": "markdown",
   "id": "2d3bb546",
   "metadata": {},
   "source": [
    "# w recursion"
   ]
  },
  {
   "cell_type": "code",
   "execution_count": 5,
   "id": "919ca6bf",
   "metadata": {},
   "outputs": [],
   "source": [
    "def printFibonacci(n):\n",
    "    if n==0:\n",
    "        return 0\n",
    "    elif n==1:\n",
    "        return 1\n",
    "    else:\n",
    "        return printFibonacci(n-1) + printFibonacci(n-2)"
   ]
  },
  {
   "cell_type": "code",
   "execution_count": 6,
   "id": "1c75a88e",
   "metadata": {},
   "outputs": [
    {
     "name": "stdout",
     "output_type": "stream",
     "text": [
      "Enter no of nums - 9\n",
      "0, 1, 1, 2, 3, 5, 8, 13, 21, "
     ]
    }
   ],
   "source": [
    "nums = int(input(\"Enter no of nums - \"))\n",
    "for i in range(nums):\n",
    "    print(printFibonacci(i),end=\", \")"
   ]
  },
  {
   "cell_type": "code",
   "execution_count": null,
   "id": "1bc80d12",
   "metadata": {},
   "outputs": [],
   "source": []
  }
 ],
 "metadata": {
  "kernelspec": {
   "display_name": "Python 3",
   "language": "python",
   "name": "python3"
  },
  "language_info": {
   "codemirror_mode": {
    "name": "ipython",
    "version": 3
   },
   "file_extension": ".py",
   "mimetype": "text/x-python",
   "name": "python",
   "nbconvert_exporter": "python",
   "pygments_lexer": "ipython3",
   "version": "3.6.13"
  }
 },
 "nbformat": 4,
 "nbformat_minor": 5
}
